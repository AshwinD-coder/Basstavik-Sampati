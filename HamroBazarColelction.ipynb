{
 "cells": [
  {
   "cell_type": "code",
   "execution_count": 1,
   "id": "b5e4c664",
   "metadata": {},
   "outputs": [],
   "source": [
    "#This cell imports packages and modules for data collection and dataset engineering.\n",
    "\n",
    "import os, time, csv, re\n",
    "from bs4 import BeautifulSoup\n",
    "from selenium.webdriver.support.ui import Select\n",
    "from selenium.webdriver.support.ui import WebDriverWait\n",
    "from selenium import webdriver\n",
    "from selenium.webdriver.chrome.service import Service\n",
    "from selenium.webdriver.common.by import By\n",
    "import pandas as pd\n",
    "from selenium.webdriver.support.ui import WebDriverWait\n",
    "from selenium.webdriver.support import expected_conditions as EC"
   ]
  },
  {
   "cell_type": "code",
   "execution_count": 2,
   "id": "bec43bf3",
   "metadata": {},
   "outputs": [],
   "source": [
    "#This cell initializes the chrome driver --> Creates a chrome tab for automation.\n",
    "\n",
    "driver_path = 'C:/Program Files/Google/Chrome/Application/chromedriver.exe' # Use your Chromedriver.exe path here.\n",
    "# driver = webdriver.Chrome('/path/to/chromedriver') \n",
    "service = Service(executable_path=driver_path)\n",
    "#driver = webdriver.Chrome(service = service)\n",
    "driver = webdriver.Chrome(driver_path)"
   ]
  },
  {
   "cell_type": "code",
   "execution_count": 582,
   "id": "95fa150c",
   "metadata": {},
   "outputs": [],
   "source": [
    "driver.get(\"https://hamrobazaar.com/category/for-sale-house/06b8b8e6-4cde-4d79-ae65-38b8baa9ff17/56c5f377-50c1-42a4-b6c2-24a8b3235dc7\")"
   ]
  },
  {
   "cell_type": "code",
   "execution_count": 556,
   "id": "8ff60d8b",
   "metadata": {},
   "outputs": [],
   "source": [
    "house_links=[]\n",
    "anchor_tag = 0"
   ]
  },
  {
   "cell_type": "code",
   "execution_count": null,
   "id": "68e06879",
   "metadata": {},
   "outputs": [],
   "source": [
    "\n",
    "\n",
    "# Set the maximum number of scroll attempts\n",
    "max_scroll_attempts = 500000\n",
    "\n",
    "# Scroll and wait for lazy-loaded elements\n",
    "for _ in range(max_scroll_attempts):  # Scroll to the bottom of the page\n",
    "    driver.execute_script(\"window.scrollTo(0, document.body.scrollHeight);\")\n",
    "    try:\n",
    "        for i in range(1000000):\n",
    "            anchor_tag = driver.find_elements_by_css_selector(\"#hb__root > div.hb__parent > div.container.search--page.category--page > div.hb__body > section > div.product-list > div > div > div.css-1j3c9pz > div:nth-child(3) > div.card-product-linear > div.card-product-linear-info > div.nameAndDropdown > a\")\n",
    "            for anchor in anchor_tag:\n",
    "                house_links.append(anchor.get_attribute(\"href\"))\n",
    "                print(anchor.get_attribute(\"href\"))\n",
    "    except:\n",
    "        print(\"Error\")\n",
    "        # Wait for the dynamically loaded elements to become visible\n",
    "wait = WebDriverWait(driver, 10)\n",
    "elements = wait.until(EC.visibility_of_all_elements_located((By.CSS_SELECTOR, \"#hb__root > div.hb__parent > div.container.search--page.category--page > div.hb__body > section > div.product-list > div > div > div.css-1j3c9pz > div:nth-child(3) > div.card-product-linear > div.card-product-linear-info > div.nameAndDropdown > a\")))\n",
    "\n",
    "    # Check if any new elements were loaded\n",
    "if len(elements) > 0:\n",
    "    break\n",
    "\n",
    "# Continue with further actions after lazy loading\n"
   ]
  },
  {
   "cell_type": "code",
   "execution_count": null,
   "id": "25ae359d",
   "metadata": {},
   "outputs": [],
   "source": []
  },
  {
   "cell_type": "code",
   "execution_count": null,
   "id": "6ea58cba",
   "metadata": {
    "scrolled": false
   },
   "outputs": [],
   "source": [
    "scroll_script = \"\"\"\n",
    "    function scrollPage() {\n",
    "        var scrollHeight = Math.max(document.documentElement.scrollHeight, document.body.scrollHeight);\n",
    "        var clientHeight = document.documentElement.clientHeight;\n",
    "        var previousScrollPosition=0;\n",
    "        var scrollPosition=0;\n",
    "\n",
    "        function scrollStep() {\n",
    "            previousScrollPosition = scrollPosition;\n",
    "            scrollPosition += 2// Adjust the scroll speed here (increase or decrease the value)\n",
    "            window.scrollTo(0, scrollPosition);\n",
    "\n",
    "            if (scrollPosition >= scrollHeight || scrollPosition === previousScrollPosition) {\n",
    "                return;\n",
    "            }\n",
    "\n",
    "            setTimeout(scrollStep, 4) //just the scroll interval here (increase or decrease the value)\n",
    "        }\n",
    "\n",
    "        scrollStep();\n",
    "    }\n",
    "\n",
    "    scrollPage();\n",
    "\"\"\"\n",
    "\n",
    "# Execute the scroll script\n",
    "driver.execute_script(scroll_script)\n",
    "wait = WebDriverWait(driver, 10)\n",
    "wait.until(EC.presence_of_element_located((By.CSS_SELECTOR, \"#hb__root > div.hb__parent > div.container.search--page.category--page > div.hb__body > section > div.product-list > div > div > div.css-1j3c9pz > div:nth-child(3) > div.card-product-linear > div.card-product-linear-info > div.nameAndDropdown > a\")))\n",
    "\n",
    "\n",
    "\n",
    "for i in range(1000000):\n",
    "    time.sleep(1)\n",
    "    anchor_tag = driver.find_elements_by_css_selector(\"#hb__root > div.hb__parent > div.container.search--page.category--page > div.hb__body > section > div.product-list > div > div > div.css-1j3c9pz > div:nth-child(3) > div.card-product-linear > div.card-product-linear-info > div.nameAndDropdown > a\")\n",
    "    for anchor in anchor_tag:\n",
    "        house_links.append(anchor.get_attribute(\"href\"))\n",
    "        print(anchor.get_attribute(\"href\"))\n",
    "# while True:\n",
    "#     \n",
    "        \n",
    "\n",
    "# # for i in range(0,20):# Get the loaded elements\n",
    "# # driver.implicitly_wait(5)\n",
    "# # loaded_elements = driver.find_elements(By.CSS_SELECTOR, \"#hb__root > div.hb__parent > div.container.search--page.category--page > div.hb__body > section > div.product-list > div > div > div.css-1j3c9pz > div:nth-child(3) > div.card-product-linear > div.card-product-linear-info > div.nameAndDropdown > a\")\n",
    "# # # # Process the loaded elements as needed\n",
    "# # for element in loaded_elements:\n",
    "# #     print(element.get_attribute(\"href\"))\n",
    "\n",
    "\n",
    "# # Wait for the scrolling to complete (you can adjust the wait time as needed)\n",
    "\n",
    "\n",
    "# # Close the WebDriver\n",
    "# # //*[@id=\"hb__root\"]/div[2]/div[2]/div[1]/section/div[2]/div/div/div[1]/div[2]"
   ]
  },
  {
   "cell_type": "code",
   "execution_count": 596,
   "id": "53a1826c",
   "metadata": {},
   "outputs": [
    {
     "data": {
      "text/plain": [
       "886"
      ]
     },
     "execution_count": 596,
     "metadata": {},
     "output_type": "execute_result"
    }
   ],
   "source": [
    "houses = set(house_links))"
   ]
  },
  {
   "cell_type": "code",
   "execution_count": null,
   "id": "5b7bd70a",
   "metadata": {
    "scrolled": true
   },
   "outputs": [],
   "source": [
    "for house in houses:\n",
    "    print(house)"
   ]
  },
  {
   "cell_type": "code",
   "execution_count": 595,
   "id": "b2dc5706",
   "metadata": {},
   "outputs": [],
   "source": [
    "with open('house_link_hamrobazar.txt','a') as f:\n",
    "    for house in houses:\n",
    "        print(house,file=f)"
   ]
  },
  {
   "cell_type": "code",
   "execution_count": 136,
   "id": "2fbfbd7a",
   "metadata": {},
   "outputs": [],
   "source": [
    "house_links=[]\n",
    "count=0\n",
    "with open('house_link_hamrobazar.txt') as f:\n",
    "    for houses in f:\n",
    "        count+=1\n",
    "        house_links.append(houses)"
   ]
  },
  {
   "cell_type": "code",
   "execution_count": 137,
   "id": "8989e2a1",
   "metadata": {},
   "outputs": [
    {
     "data": {
      "text/plain": [
       "'https://hamrobazaar.com/for-sale-house/8-anna-ma-baneko-ghar-bikri-ma-at-chapgau-dobato-in-nepal/07c288521dde4aadbeda644a535d858e\\n'"
      ]
     },
     "execution_count": 137,
     "metadata": {},
     "output_type": "execute_result"
    }
   ],
   "source": [
    "house_links[1]"
   ]
  },
  {
   "cell_type": "code",
   "execution_count": 7,
   "id": "78b150b0",
   "metadata": {},
   "outputs": [],
   "source": [
    "driver.get('https://hamrobazaar.com/for-sale-house/house-on-sale-at-lalitpur-in-lalitpur/59a7da2f7917430a9200ee17854b9081\\n')"
   ]
  },
  {
   "cell_type": "code",
   "execution_count": 167,
   "id": "0088e688",
   "metadata": {
    "scrolled": true
   },
   "outputs": [
    {
     "name": "stdout",
     "output_type": "stream",
     "text": [
      "https://hamrobazaar.com/for-sale-house/8-anna-ma-baneko-ghar-bikri-ma-at-chapgau-dobato-in-nepal/07c288521dde4aadbeda644a535d858e\n",
      "\n",
      "https://hamrobazaar.com/for-sale-house/house-on-sale-mid-baneshwor-in-kathmandu/810b6dee409c44f58f6d93a20100c351\n",
      "\n",
      "https://hamrobazaar.com/for-sale-house/house-on-sale-at-maharajgunj-chundevi-ktm-in-kathmandu/65303a517afa426da70504307e2a375c\n",
      "\n",
      "https://hamrobazaar.com/for-sale-house/25-stereo-home-on-sale-hurry-up-in-nepal/69f75240a91941dea7a77fde23946d7b\n",
      "\n",
      "https://hamrobazaar.com/for-sale-house/house-on-sale-in-kathmandu/df5fc14bb1504e55909b6b1cdf812537\n",
      "\n",
      "https://hamrobazaar.com/for-sale-house/house-on-sale-at-lubhu-lalitpur-in-lalitpur/c1e2aced818e467c98fe65bd9fb3598a\n",
      "\n",
      "https://hamrobazaar.com/for-sale-house/house-on-sale-in-lalitpur/d358e8c10991487693802592e76bfb3f\n",
      "\n",
      "https://hamrobazaar.com/for-sale-house/bungalow-house-on-sale-at-dhungeadda-kathmandu-in-kathmandu/4bfc3cfad69049a3a07e72559cf0a89c\n",
      "\n",
      "https://hamrobazaar.com/for-sale-house/bhaisepati-35-aana-ma-baneko-ghar-bikrima-in-lalitpur/cd4f281d190549169522648910a1c1bb\n",
      "\n",
      "--- 31.509485960006714 seconds ---\n"
     ]
    }
   ],
   "source": [
    "title_val = []\n",
    "address_val =[]\n",
    "price = []\n",
    "values = []\n",
    "price = []\n",
    "bedroom = []\n",
    "bathroom = []\n",
    "floor = []\n",
    "parking = []\n",
    "orientation = []\n",
    "overview1 = []#group of features\n",
    "overview2 = []#group of features\n",
    "property_id=[]\n",
    "property_face=[]\n",
    "build_year = []\n",
    "views = []\n",
    "area_covered = []\n",
    "road_access = []\n",
    "build_area = []\n",
    "posted = []\n",
    "amenities = []\n",
    "links=[]\n",
    "error_links=[]\n",
    "description=[]\n",
    "def fetch_feature():\n",
    "    for link in house_links[1:10]:\n",
    "        try:\n",
    "            driver.get(link)\n",
    "    #         WebDriverWait(driver,10)\n",
    "    #         links.append(driver.find_elements(By.CLASS_NAME, \"label\"))\n",
    "    #         for link in links:\n",
    "    #             for a in link:\n",
    "    #                 print(a.text)\n",
    "            time.sleep(2)\n",
    "            description.append(driver.find_element(By.CLASS_NAME,\"ad--desc\").text)\n",
    "            title_val.append(driver.find_element(By.CSS_SELECTOR,\"#hb__root > div.hb__parent > main > div > section > div.title--relative > h3\").text)\n",
    "            address_val.append(driver.find_element_by_css_selector('#hb__root > div.hb__parent > main > div > section > div.tab-content > div > div:nth-child(2) > div > div:nth-child(2) > div.label__desc').text)\n",
    "            price.append(driver.find_element_by_css_selector(\"#hb__root > div.hb__parent > main > div > aside.aside--categories.page--details--aside > div.sticky--part > section > div.slider-wrapper.thumbnail-slider-wrap > h2\").text)\n",
    "            bedroom.append(driver.find_element_by_css_selector(\"#hb__root > div.hb__parent > main > div > section > div.tab-content > div > div:nth-child(3) > div > div:nth-child(n) > div.label__desc:contains('Bedroom')\").text)\n",
    "            bathroom.append(driver.find_element_by_css_selector(\"#hb__root > div.hb__parent > main > div > section > div.tab-content > div > div:nth-child(3) > div > div:nth-child(n) > div.label__desc:contains('Bathroom')\").text)\n",
    "            area_covered.append(driver.find_element(By.CSS_SELECTOR,\"#hb__root > div.hb__parent > main > div > section > div.tab-content > div > div:nth-child(3) > div > div:nth-child(n) > div.label__desc:contains('Land Size (Aana/Dhur)')\").text)\n",
    "            road_access.append(driver.find_element(By.CSS_SELECTOR,\"#hb__root > div.hb__parent > main > div > section > div.tab-content > div > div:nth-child(3) > div > div:nth-child(n) > div.label__desc:contains('Road Size')\").text)\n",
    "            links.append(link)\n",
    "#             parking.append(driver2.find_element_by_css_selector('#details-prop > div > div.row > div.col-xl-8 > div:nth-child(1) > div > div > div.col8-xl.col8-md > div > div:nth-child(4) > div.value').text)\n",
    "#             overview1.append(driver2.find_element(By.XPATH,\"//*[@id='details-prop']/div/div[1]/div[1]/div[2]/div[2]/div/div[1]\").text)\n",
    "#     #         overview1.append(driver2.find_element(By.CLASS_NAME,\"col-xl-6\").text)\n",
    "#             overview2.append(driver2.find_element(By.XPATH,\"//*[@id='details-prop']/div/div[1]/div[1]/div[2]/div[2]/div/div[2]\").text)\n",
    "#             list = driver2.find_elements(By.CSS_SELECTOR,\"#details-prop > div > div.row > div.col-xl-8 > div.amenities > div.description.container > div > div > ul>li\")\n",
    "#             for x in list:\n",
    "#                 li.append(x.text)\n",
    "# #             amenities.append(li)\n",
    "#             li=[]\n",
    "        except Exception:\n",
    "            print(link)\n",
    "            error_links.append(link)\n",
    "      \n",
    "start_time = time.time()\n",
    "fetch_feature()\n",
    "print(\"--- %s seconds ---\" % (time.time() - start_time))  "
   ]
  },
  {
   "cell_type": "code",
   "execution_count": 168,
   "id": "8b344de8",
   "metadata": {},
   "outputs": [
    {
     "name": "stdout",
     "output_type": "stream",
     "text": [
      "9 0 0 9 0\n"
     ]
    }
   ],
   "source": [
    "print(len(title_val),len(road_access),len(bedroom),len(price),len(area_covered))"
   ]
  },
  {
   "cell_type": "code",
   "execution_count": 132,
   "id": "a44abafc",
   "metadata": {},
   "outputs": [
    {
     "name": "stdout",
     "output_type": "stream",
     "text": [
      " https://hamrobazaar.com/for-sale-house/bunglow-semi-sale-hadigau-bisalnagar-in-nepal/726ed011daea4818a527daf379435685\n",
      " Beautiful house for sale at comfort housing . free 13 - 20 Ft. 853 853 877 853 877\n"
     ]
    }
   ],
   "source": [
    "print(links[852],title_val[852],road_access[852],len(bedroom),len(bathroom),len(price),len(area_covered),len(address_val))\n"
   ]
  },
  {
   "cell_type": "code",
   "execution_count": 110,
   "id": "5d8c1089",
   "metadata": {},
   "outputs": [
    {
     "name": "stdout",
     "output_type": "stream",
     "text": [
      "100 https://hamrobazaar.com/for-sale-house/house-for-sale-nakhhumediciti-hospital-in-lalitpur/27a521498c204a62a0f3739ce78b7e5c\n",
      "\n"
     ]
    },
    {
     "ename": "InvalidArgumentException",
     "evalue": "Message: invalid argument\n  (Session info: chrome=114.0.5735.110)\n",
     "output_type": "error",
     "traceback": [
      "\u001b[1;31m---------------------------------------------------------------------------\u001b[0m",
      "\u001b[1;31mInvalidArgumentException\u001b[0m                  Traceback (most recent call last)",
      "\u001b[1;32m~\\AppData\\Local\\Temp\\ipykernel_5096\\1566347221.py\u001b[0m in \u001b[0;36m<module>\u001b[1;34m\u001b[0m\n\u001b[0;32m     58\u001b[0m \u001b[1;33m\u001b[0m\u001b[0m\n\u001b[0;32m     59\u001b[0m \u001b[0mstart_time\u001b[0m \u001b[1;33m=\u001b[0m \u001b[0mtime\u001b[0m\u001b[1;33m.\u001b[0m\u001b[0mtime\u001b[0m\u001b[1;33m(\u001b[0m\u001b[1;33m)\u001b[0m\u001b[1;33m\u001b[0m\u001b[1;33m\u001b[0m\u001b[0m\n\u001b[1;32m---> 60\u001b[1;33m \u001b[0mfetch_feature\u001b[0m\u001b[1;33m(\u001b[0m\u001b[1;33m)\u001b[0m\u001b[1;33m\u001b[0m\u001b[1;33m\u001b[0m\u001b[0m\n\u001b[0m\u001b[0;32m     61\u001b[0m \u001b[0mprint\u001b[0m\u001b[1;33m(\u001b[0m\u001b[1;34m\"--- %s seconds ---\"\u001b[0m \u001b[1;33m%\u001b[0m \u001b[1;33m(\u001b[0m\u001b[0mtime\u001b[0m\u001b[1;33m.\u001b[0m\u001b[0mtime\u001b[0m\u001b[1;33m(\u001b[0m\u001b[1;33m)\u001b[0m \u001b[1;33m-\u001b[0m \u001b[0mstart_time\u001b[0m\u001b[1;33m)\u001b[0m\u001b[1;33m)\u001b[0m\u001b[1;33m\u001b[0m\u001b[1;33m\u001b[0m\u001b[0m\n",
      "\u001b[1;32m~\\AppData\\Local\\Temp\\ipykernel_5096\\1566347221.py\u001b[0m in \u001b[0;36mfetch_feature\u001b[1;34m()\u001b[0m\n\u001b[0;32m     27\u001b[0m     \u001b[1;32mfor\u001b[0m \u001b[0mlink\u001b[0m \u001b[1;32min\u001b[0m \u001b[0mhouse_links\u001b[0m\u001b[1;33m[\u001b[0m\u001b[1;36m99\u001b[0m\u001b[1;33m:\u001b[0m\u001b[1;33m]\u001b[0m\u001b[1;33m:\u001b[0m\u001b[1;33m\u001b[0m\u001b[1;33m\u001b[0m\u001b[0m\n\u001b[0;32m     28\u001b[0m         \u001b[0mprint\u001b[0m\u001b[1;33m(\u001b[0m\u001b[0mlink\u001b[0m\u001b[1;33m)\u001b[0m\u001b[1;33m\u001b[0m\u001b[1;33m\u001b[0m\u001b[0m\n\u001b[1;32m---> 29\u001b[1;33m         \u001b[0mdriver\u001b[0m\u001b[1;33m.\u001b[0m\u001b[0mget\u001b[0m\u001b[1;33m(\u001b[0m\u001b[0mlink\u001b[0m\u001b[1;33m[\u001b[0m\u001b[1;36m2\u001b[0m\u001b[1;33m:\u001b[0m\u001b[1;33m]\u001b[0m\u001b[1;33m)\u001b[0m\u001b[1;33m\u001b[0m\u001b[1;33m\u001b[0m\u001b[0m\n\u001b[0m\u001b[0;32m     30\u001b[0m \u001b[1;31m#         WebDriverWait(driver,10)\u001b[0m\u001b[1;33m\u001b[0m\u001b[1;33m\u001b[0m\u001b[0m\n\u001b[0;32m     31\u001b[0m \u001b[1;31m#         links.append(driver.find_elements(By.CLASS_NAME, \"label\"))\u001b[0m\u001b[1;33m\u001b[0m\u001b[1;33m\u001b[0m\u001b[0m\n",
      "\u001b[1;32mD:\\Softwares\\anaconda\\lib\\site-packages\\selenium\\webdriver\\remote\\webdriver.py\u001b[0m in \u001b[0;36mget\u001b[1;34m(self, url)\u001b[0m\n\u001b[0;32m    331\u001b[0m         \u001b[0mLoads\u001b[0m \u001b[0ma\u001b[0m \u001b[0mweb\u001b[0m \u001b[0mpage\u001b[0m \u001b[1;32min\u001b[0m \u001b[0mthe\u001b[0m \u001b[0mcurrent\u001b[0m \u001b[0mbrowser\u001b[0m \u001b[0msession\u001b[0m\u001b[1;33m.\u001b[0m\u001b[1;33m\u001b[0m\u001b[1;33m\u001b[0m\u001b[0m\n\u001b[0;32m    332\u001b[0m         \"\"\"\n\u001b[1;32m--> 333\u001b[1;33m         \u001b[0mself\u001b[0m\u001b[1;33m.\u001b[0m\u001b[0mexecute\u001b[0m\u001b[1;33m(\u001b[0m\u001b[0mCommand\u001b[0m\u001b[1;33m.\u001b[0m\u001b[0mGET\u001b[0m\u001b[1;33m,\u001b[0m \u001b[1;33m{\u001b[0m\u001b[1;34m'url'\u001b[0m\u001b[1;33m:\u001b[0m \u001b[0murl\u001b[0m\u001b[1;33m}\u001b[0m\u001b[1;33m)\u001b[0m\u001b[1;33m\u001b[0m\u001b[1;33m\u001b[0m\u001b[0m\n\u001b[0m\u001b[0;32m    334\u001b[0m \u001b[1;33m\u001b[0m\u001b[0m\n\u001b[0;32m    335\u001b[0m     \u001b[1;33m@\u001b[0m\u001b[0mproperty\u001b[0m\u001b[1;33m\u001b[0m\u001b[1;33m\u001b[0m\u001b[0m\n",
      "\u001b[1;32mD:\\Softwares\\anaconda\\lib\\site-packages\\selenium\\webdriver\\remote\\webdriver.py\u001b[0m in \u001b[0;36mexecute\u001b[1;34m(self, driver_command, params)\u001b[0m\n\u001b[0;32m    319\u001b[0m         \u001b[0mresponse\u001b[0m \u001b[1;33m=\u001b[0m \u001b[0mself\u001b[0m\u001b[1;33m.\u001b[0m\u001b[0mcommand_executor\u001b[0m\u001b[1;33m.\u001b[0m\u001b[0mexecute\u001b[0m\u001b[1;33m(\u001b[0m\u001b[0mdriver_command\u001b[0m\u001b[1;33m,\u001b[0m \u001b[0mparams\u001b[0m\u001b[1;33m)\u001b[0m\u001b[1;33m\u001b[0m\u001b[1;33m\u001b[0m\u001b[0m\n\u001b[0;32m    320\u001b[0m         \u001b[1;32mif\u001b[0m \u001b[0mresponse\u001b[0m\u001b[1;33m:\u001b[0m\u001b[1;33m\u001b[0m\u001b[1;33m\u001b[0m\u001b[0m\n\u001b[1;32m--> 321\u001b[1;33m             \u001b[0mself\u001b[0m\u001b[1;33m.\u001b[0m\u001b[0merror_handler\u001b[0m\u001b[1;33m.\u001b[0m\u001b[0mcheck_response\u001b[0m\u001b[1;33m(\u001b[0m\u001b[0mresponse\u001b[0m\u001b[1;33m)\u001b[0m\u001b[1;33m\u001b[0m\u001b[1;33m\u001b[0m\u001b[0m\n\u001b[0m\u001b[0;32m    322\u001b[0m             response['value'] = self._unwrap_value(\n\u001b[0;32m    323\u001b[0m                 response.get('value', None))\n",
      "\u001b[1;32mD:\\Softwares\\anaconda\\lib\\site-packages\\selenium\\webdriver\\remote\\errorhandler.py\u001b[0m in \u001b[0;36mcheck_response\u001b[1;34m(self, response)\u001b[0m\n\u001b[0;32m    240\u001b[0m                 \u001b[0malert_text\u001b[0m \u001b[1;33m=\u001b[0m \u001b[0mvalue\u001b[0m\u001b[1;33m[\u001b[0m\u001b[1;34m'alert'\u001b[0m\u001b[1;33m]\u001b[0m\u001b[1;33m.\u001b[0m\u001b[0mget\u001b[0m\u001b[1;33m(\u001b[0m\u001b[1;34m'text'\u001b[0m\u001b[1;33m)\u001b[0m\u001b[1;33m\u001b[0m\u001b[1;33m\u001b[0m\u001b[0m\n\u001b[0;32m    241\u001b[0m             \u001b[1;32mraise\u001b[0m \u001b[0mexception_class\u001b[0m\u001b[1;33m(\u001b[0m\u001b[0mmessage\u001b[0m\u001b[1;33m,\u001b[0m \u001b[0mscreen\u001b[0m\u001b[1;33m,\u001b[0m \u001b[0mstacktrace\u001b[0m\u001b[1;33m,\u001b[0m \u001b[0malert_text\u001b[0m\u001b[1;33m)\u001b[0m\u001b[1;33m\u001b[0m\u001b[1;33m\u001b[0m\u001b[0m\n\u001b[1;32m--> 242\u001b[1;33m         \u001b[1;32mraise\u001b[0m \u001b[0mexception_class\u001b[0m\u001b[1;33m(\u001b[0m\u001b[0mmessage\u001b[0m\u001b[1;33m,\u001b[0m \u001b[0mscreen\u001b[0m\u001b[1;33m,\u001b[0m \u001b[0mstacktrace\u001b[0m\u001b[1;33m)\u001b[0m\u001b[1;33m\u001b[0m\u001b[1;33m\u001b[0m\u001b[0m\n\u001b[0m\u001b[0;32m    243\u001b[0m \u001b[1;33m\u001b[0m\u001b[0m\n\u001b[0;32m    244\u001b[0m     \u001b[1;32mdef\u001b[0m \u001b[0m_value_or_default\u001b[0m\u001b[1;33m(\u001b[0m\u001b[0mself\u001b[0m\u001b[1;33m,\u001b[0m \u001b[0mobj\u001b[0m\u001b[1;33m,\u001b[0m \u001b[0mkey\u001b[0m\u001b[1;33m,\u001b[0m \u001b[0mdefault\u001b[0m\u001b[1;33m)\u001b[0m\u001b[1;33m:\u001b[0m\u001b[1;33m\u001b[0m\u001b[1;33m\u001b[0m\u001b[0m\n",
      "\u001b[1;31mInvalidArgumentException\u001b[0m: Message: invalid argument\n  (Session info: chrome=114.0.5735.110)\n"
     ]
    }
   ],
   "source": [
    "title_val = []\n",
    "address_val =[]\n",
    "price = []\n",
    "values = []\n",
    "price = []\n",
    "bedroom = []\n",
    "bathroom = []\n",
    "floor = []\n",
    "parking = []\n",
    "orientation = []\n",
    "overview1 = []#group of features\n",
    "overview2 = []#group of features\n",
    "property_id=[]\n",
    "property_face=[]\n",
    "build_year = []\n",
    "views = []\n",
    "area_covered = []\n",
    "road_access = []\n",
    "build_area = []\n",
    "posted = []\n",
    "amenities = []\n",
    "links=[]\n",
    "error_links=[]\n",
    "description=[]\n",
    "spec={}\n",
    "def fetch_feature():\n",
    "    for link in house_links[99:]:\n",
    "        print(link)\n",
    "        driver.get(link[2:])\n",
    "#         WebDriverWait(driver,10)\n",
    "#         links.append(driver.find_elements(By.CLASS_NAME, \"label\"))\n",
    "#         for link in links:\n",
    "#             for a in link:\n",
    "#                 print(a.text)\n",
    "        time.sleep(2)\n",
    "        description.append(driver.find_element(By.CLASS_NAME,\"ad--desc\").text)\n",
    "        title_val.append(driver.find_element(By.CSS_SELECTOR,\"#hb__root > div.hb__parent > main > div > section > div.title--relative > h3\").text)\n",
    "        address_val.append(driver.find_element_by_css_selector('#hb__root > div.hb__parent > main > div > section > div.tab-content > div > div:nth-child(2) > div > div > div.label__desc').text)\n",
    "        price.append(driver.find_element_by_css_selector('#hb__root > div.hb__parent > main > div > aside.aside--categories.page--details--aside > div.sticky--part > section > div.slider-wrapper.thumbnail-slider-wrap > h2').text)\n",
    "        bedroom.append(driver.find_element_by_css_selector('#hb__root > div.hb__parent > main > div > section > div.tab-content > div > div:nth-child(3) > div > div > div.label__desc').text)\n",
    "        bathroom.append(driver.find_element_by_css_selector('#hb__root > div.hb__parent > main > div > section > div.tab-content > div > div:nth-child(3) > div > div > div.label__desc').text)\n",
    "        area_covered.append(driver.find_element(By.CSS_SELECTOR,\"#hb__root > div.hb__parent > main > div > section > div.tab-content > div > div:nth-child(3) > div > div > div.label__desc\").text)\n",
    "        floor.append(driver.find_element_by_css_selector('#hb__root > div.hb__parent > main > div > section > div.tab-content > div > div:nth-child(3) > div > div > div.label__desc').text)\n",
    "        road_access.append(driver.find_element(By.CSS_SELECTOR,\"#hb__root > div.hb__parent > main > div > section > div.tab-content > div > div:nth-child(3) > div > div > div.label__desc\").text)\n",
    "        links.append(link[2:])\n",
    "#             parking.append(driver2.find_element_by_css_selector('#details-prop > div > div.row > div.col-xl-8 > div:nth-child(1) > div > div > div.col8-xl.col8-md > div > div:nth-child(4) > div.value').text)\n",
    "#             overview1.append(driver2.find_element(By.XPATH,\"//*[@id='details-prop']/div/div[1]/div[1]/div[2]/div[2]/div/div[1]\").text)\n",
    "#     #         overview1.append(driver2.find_element(By.CLASS_NAME,\"col-xl-6\").text)\n",
    "#             overview2.append(driver2.find_element(By.XPATH,\"//*[@id='details-prop']/div/div[1]/div[1]/div[2]/div[2]/div/div[2]\").text)\n",
    "#             list = driver2.find_elements(By.CSS_SELECTOR,\"#details-prop > div > div.row > div.col-xl-8 > div.amenities > div.description.container > div > div > ul>li\")\n",
    "#             for x in list:\n",
    "#                 li.append(x.text)\n",
    "# #             amenities.append(li)\n",
    "#             li=[]\n",
    "#         except:\n",
    "# #             print(link,Exception)\n",
    "#             error_links.append(link)\n",
    "      \n",
    "start_time = time.time()\n",
    "fetch_feature()\n",
    "print(\"--- %s seconds ---\" % (time.time() - start_time))  "
   ]
  },
  {
   "cell_type": "code",
   "execution_count": 88,
   "id": "95c0602f",
   "metadata": {
    "collapsed": true
   },
   "outputs": [
    {
     "name": "stdout",
     "output_type": "stream",
     "text": [
      "92\n"
     ]
    }
   ],
   "source": [
    "print(len(road_access))"
   ]
  },
  {
   "cell_type": "code",
   "execution_count": 112,
   "id": "32738a6b",
   "metadata": {},
   "outputs": [
    {
     "name": "stdout",
     "output_type": "stream",
     "text": [
      "92 92\n"
     ]
    }
   ],
   "source": [
    "print(len(floor1),len(road_access1))"
   ]
  }
 ],
 "metadata": {
  "kernelspec": {
   "display_name": "Python 3 (ipykernel)",
   "language": "python",
   "name": "python3"
  },
  "language_info": {
   "codemirror_mode": {
    "name": "ipython",
    "version": 3
   },
   "file_extension": ".py",
   "mimetype": "text/x-python",
   "name": "python",
   "nbconvert_exporter": "python",
   "pygments_lexer": "ipython3",
   "version": "3.9.13"
  }
 },
 "nbformat": 4,
 "nbformat_minor": 5
}
