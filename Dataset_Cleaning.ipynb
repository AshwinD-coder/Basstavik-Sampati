{
 "cells": [
  {
   "cell_type": "code",
   "execution_count": 1,
   "id": "7d9623c4",
   "metadata": {},
   "outputs": [],
   "source": [
    "import pandas as pd\n"
   ]
  },
  {
   "cell_type": "code",
   "execution_count": 99,
   "id": "f0448b31",
   "metadata": {},
   "outputs": [],
   "source": [
    "df = pd.read_csv('./combined_basobaas_houses.csv') #self scraped dataset from basobaas"
   ]
  },
  {
   "cell_type": "code",
   "execution_count": 100,
   "id": "3552339e",
   "metadata": {},
   "outputs": [],
   "source": [
    "df2 = pd.read_csv(\"./nepalihousingset.csv\") #dataset from kaggle (Author : Sangyam Thapa)"
   ]
  },
  {
   "cell_type": "code",
   "execution_count": 101,
   "id": "69dfbd62",
   "metadata": {
    "scrolled": true
   },
   "outputs": [
    {
     "data": {
      "text/plain": [
       "(2169, 17)"
      ]
     },
     "execution_count": 101,
     "metadata": {},
     "output_type": "execute_result"
    }
   ],
   "source": [
    "df.shape"
   ]
  },
  {
   "cell_type": "code",
   "execution_count": 102,
   "id": "dbbf7e2d",
   "metadata": {},
   "outputs": [
    {
     "data": {
      "text/plain": [
       "(2211, 18)"
      ]
     },
     "execution_count": 102,
     "metadata": {},
     "output_type": "execute_result"
    }
   ],
   "source": [
    "df2.shape"
   ]
  },
  {
   "cell_type": "code",
   "execution_count": 103,
   "id": "18bcd514",
   "metadata": {},
   "outputs": [],
   "source": [
    "df = df.loc[:, ~df.columns.str.contains('^Unnamed')]\n",
    "df = df.drop(columns=\"property_id\") #Dropping property_id from original dataset\n",
    "df = df.rename(columns={'Floor':'Floors'}) #renaming column names\n",
    "df=df.rename(columns={'title':'Title','address':'Address','price':'Price','bedroom':'Bedroom','bathroom':'Bathroom','floor':'Floors','parking':'Parking','property_face':'Face','build_year':'Year','views':'Views','area_covered':'Area','road_access':'Road','build_up_area':'Build Area','posted':'Posted','amenities':'Amenities'})\n",
    "\n",
    "# Write updated DataFrame to CSV file\n",
    "df.to_csv('basobaas.csv', index=False) #Dataset without indexing\n",
    "\n",
    "df2=df2.drop(columns=\"Road Type\") #Dropping Road type and City columns from kaggle dataset to integrate\n",
    "df2 = df2.drop(columns=\"City\")\n",
    "df2 = df2.drop(columns=\"Road Width\") #Dropped Road width from kaggle dataset"
   ]
  },
  {
   "cell_type": "code",
   "execution_count": 104,
   "id": "dfe7d103",
   "metadata": {},
   "outputs": [],
   "source": [
    "df = pd.read_csv(\"basobaas.csv\")"
   ]
  },
  {
   "cell_type": "code",
   "execution_count": 61,
   "id": "99252d9b",
   "metadata": {},
   "outputs": [],
   "source": []
  },
  {
   "cell_type": "code",
   "execution_count": 105,
   "id": "998e4142",
   "metadata": {},
   "outputs": [
    {
     "name": "stdout",
     "output_type": "stream",
     "text": [
      "(2169, 15)\n",
      "(2211, 15)\n"
     ]
    }
   ],
   "source": [
    "print(df.shape)\n",
    "print(df2.shape)"
   ]
  },
  {
   "cell_type": "code",
   "execution_count": 106,
   "id": "de89a9e6",
   "metadata": {},
   "outputs": [],
   "source": [
    "merged_df = pd.concat([dfWithoutPropertyId, df2], axis=0)"
   ]
  },
  {
   "cell_type": "code",
   "execution_count": 138,
   "id": "77a35eb0",
   "metadata": {
    "scrolled": true
   },
   "outputs": [
    {
     "data": {
      "text/plain": [
       "(3072, 15)"
      ]
     },
     "execution_count": 138,
     "metadata": {},
     "output_type": "execute_result"
    }
   ],
   "source": [
    "merged_df.drop_duplicates(subset=['Title', 'Face'], keep='first', inplace=True) # Dropped duplicates\n",
    "merged_df.shape"
   ]
  },
  {
   "cell_type": "code",
   "execution_count": 140,
   "id": "1c6857e9",
   "metadata": {},
   "outputs": [],
   "source": [
    "merged_df.to_csv('no_duplicates_merged_file.csv', index=False) #saved no duplicate rows dataset (dataset shape:(3072,15))"
   ]
  },
  {
   "cell_type": "code",
   "execution_count": 253,
   "id": "71ed7b4e",
   "metadata": {
    "scrolled": true
   },
   "outputs": [],
   "source": [
    "df_noDup= pd.read_csv(\"no_duplicates_merged_file.csv\")"
   ]
  },
  {
   "cell_type": "code",
   "execution_count": 254,
   "id": "3927c1ac",
   "metadata": {},
   "outputs": [
    {
     "data": {
      "text/plain": [
       "Title            0\n",
       "Address          0\n",
       "Price            0\n",
       "Bedroom          0\n",
       "Bathroom         0\n",
       "Floors        1410\n",
       "Parking          0\n",
       "Face             0\n",
       "Year          2011\n",
       "Views            0\n",
       "Area             0\n",
       "Road             0\n",
       "Build Area       0\n",
       "Posted           0\n",
       "Amenities        0\n",
       "dtype: int64"
      ]
     },
     "execution_count": 254,
     "metadata": {},
     "output_type": "execute_result"
    }
   ],
   "source": [
    "df_noDup.isnull().sum() #Null values in dataset"
   ]
  },
  {
   "cell_type": "code",
   "execution_count": 122,
   "id": "b386728c",
   "metadata": {},
   "outputs": [
    {
     "name": "stdout",
     "output_type": "stream",
     "text": [
      "(3072, 15)\n"
     ]
    }
   ],
   "source": [
    "print(df_noDup.shape)"
   ]
  },
  {
   "cell_type": "code",
   "execution_count": 255,
   "id": "3923ff53",
   "metadata": {},
   "outputs": [
    {
     "data": {
      "text/html": [
       "<div>\n",
       "<style scoped>\n",
       "    .dataframe tbody tr th:only-of-type {\n",
       "        vertical-align: middle;\n",
       "    }\n",
       "\n",
       "    .dataframe tbody tr th {\n",
       "        vertical-align: top;\n",
       "    }\n",
       "\n",
       "    .dataframe thead th {\n",
       "        text-align: right;\n",
       "    }\n",
       "</style>\n",
       "<table border=\"1\" class=\"dataframe\">\n",
       "  <thead>\n",
       "    <tr style=\"text-align: right;\">\n",
       "      <th></th>\n",
       "      <th>Title</th>\n",
       "      <th>Address</th>\n",
       "      <th>Price</th>\n",
       "      <th>Bedroom</th>\n",
       "      <th>Bathroom</th>\n",
       "      <th>Floors</th>\n",
       "      <th>Parking</th>\n",
       "      <th>Face</th>\n",
       "      <th>Year</th>\n",
       "      <th>Views</th>\n",
       "      <th>Area</th>\n",
       "      <th>Road</th>\n",
       "      <th>Build Area</th>\n",
       "      <th>Posted</th>\n",
       "      <th>Amenities</th>\n",
       "    </tr>\n",
       "  </thead>\n",
       "  <tbody>\n",
       "    <tr>\n",
       "      <th>0</th>\n",
       "      <td>Tokha House(Residential) : House For Sale In T...</td>\n",
       "      <td>Grande Tole, Tokha, Kathmandu</td>\n",
       "      <td>NPR. 3,50,00,000 Onwards</td>\n",
       "      <td>0</td>\n",
       "      <td>0</td>\n",
       "      <td>3.0</td>\n",
       "      <td>0</td>\n",
       "      <td>East</td>\n",
       "      <td>NaN</td>\n",
       "      <td>230</td>\n",
       "      <td>6-1 Aana</td>\n",
       "      <td>13 Feet</td>\n",
       "      <td>N/A Aana</td>\n",
       "      <td>3 weeks ago</td>\n",
       "      <td>[]</td>\n",
       "    </tr>\n",
       "    <tr>\n",
       "      <th>1</th>\n",
       "      <td>New House For Sale At Puspalal Chowk Biratnaga...</td>\n",
       "      <td>Puspalal Chowk, Biratnagar, DDC Chowk, Biratnagar</td>\n",
       "      <td>NPR. 90,00,000 Onwards</td>\n",
       "      <td>3</td>\n",
       "      <td>1</td>\n",
       "      <td>1.0</td>\n",
       "      <td>1</td>\n",
       "      <td>East</td>\n",
       "      <td>2021.0</td>\n",
       "      <td>164</td>\n",
       "      <td>10 Dhur</td>\n",
       "      <td>20 Feet / Gravelled</td>\n",
       "      <td>7 Dhur</td>\n",
       "      <td>3 weeks ago</td>\n",
       "      <td>['Drainage', 'Parking', 'Water Supply', 'Garde...</td>\n",
       "    </tr>\n",
       "    <tr>\n",
       "      <th>2</th>\n",
       "      <td>House For Sale In Tikathali, Lalitpur</td>\n",
       "      <td>Mahalaxmi-05, Tikathali, Tikathali, Lalitpur</td>\n",
       "      <td>NPR. 1,70,00,000</td>\n",
       "      <td>2</td>\n",
       "      <td>1</td>\n",
       "      <td>1.0</td>\n",
       "      <td>1</td>\n",
       "      <td>North</td>\n",
       "      <td>NaN</td>\n",
       "      <td>164</td>\n",
       "      <td>0-3-1 Aana</td>\n",
       "      <td>13 Feet / Gravelled</td>\n",
       "      <td>785 Sq. Feet</td>\n",
       "      <td>4 weeks ago</td>\n",
       "      <td>[]</td>\n",
       "    </tr>\n",
       "    <tr>\n",
       "      <th>3</th>\n",
       "      <td>COmmercial Property At Ringroad : House For Sa...</td>\n",
       "      <td>Kusunti, Ekantakuna, Lalitpur</td>\n",
       "      <td>NPR. 3,20,00,000 Per Ropani</td>\n",
       "      <td>0</td>\n",
       "      <td>3</td>\n",
       "      <td>NaN</td>\n",
       "      <td>2</td>\n",
       "      <td>North</td>\n",
       "      <td>NaN</td>\n",
       "      <td>194</td>\n",
       "      <td>0-3-3-2 Aana</td>\n",
       "      <td>94 Feet / Blacktopped</td>\n",
       "      <td>0-3-3-2 Aana</td>\n",
       "      <td>1 month ago</td>\n",
       "      <td>[]</td>\n",
       "    </tr>\n",
       "    <tr>\n",
       "      <th>4</th>\n",
       "      <td>House For Sale In Tarkeshwor, Kathmandu</td>\n",
       "      <td>Tarkeshor-5, Aryaltar, New Rangasala Basti, Go...</td>\n",
       "      <td>NPR. 1,70,00,000 Onwards</td>\n",
       "      <td>5</td>\n",
       "      <td>2</td>\n",
       "      <td>2.0</td>\n",
       "      <td>1</td>\n",
       "      <td>East</td>\n",
       "      <td>2079.0</td>\n",
       "      <td>180</td>\n",
       "      <td>3 Aana</td>\n",
       "      <td>10 Feet / Gravelled</td>\n",
       "      <td>3 Aana</td>\n",
       "      <td>1 month ago</td>\n",
       "      <td>['Parking', 'Wifi', 'Balcony', 'Water Supply',...</td>\n",
       "    </tr>\n",
       "  </tbody>\n",
       "</table>\n",
       "</div>"
      ],
      "text/plain": [
       "                                               Title  \\\n",
       "0  Tokha House(Residential) : House For Sale In T...   \n",
       "1  New House For Sale At Puspalal Chowk Biratnaga...   \n",
       "2              House For Sale In Tikathali, Lalitpur   \n",
       "3  COmmercial Property At Ringroad : House For Sa...   \n",
       "4            House For Sale In Tarkeshwor, Kathmandu   \n",
       "\n",
       "                                             Address  \\\n",
       "0                      Grande Tole, Tokha, Kathmandu   \n",
       "1  Puspalal Chowk, Biratnagar, DDC Chowk, Biratnagar   \n",
       "2       Mahalaxmi-05, Tikathali, Tikathali, Lalitpur   \n",
       "3                      Kusunti, Ekantakuna, Lalitpur   \n",
       "4  Tarkeshor-5, Aryaltar, New Rangasala Basti, Go...   \n",
       "\n",
       "                         Price  Bedroom  Bathroom  Floors  Parking   Face  \\\n",
       "0     NPR. 3,50,00,000 Onwards        0         0     3.0        0   East   \n",
       "1       NPR. 90,00,000 Onwards        3         1     1.0        1   East   \n",
       "2             NPR. 1,70,00,000        2         1     1.0        1  North   \n",
       "3  NPR. 3,20,00,000 Per Ropani        0         3     NaN        2  North   \n",
       "4     NPR. 1,70,00,000 Onwards        5         2     2.0        1   East   \n",
       "\n",
       "     Year Views          Area                   Road    Build Area  \\\n",
       "0     NaN   230      6-1 Aana                13 Feet      N/A Aana   \n",
       "1  2021.0   164       10 Dhur    20 Feet / Gravelled        7 Dhur   \n",
       "2     NaN   164    0-3-1 Aana    13 Feet / Gravelled  785 Sq. Feet   \n",
       "3     NaN   194  0-3-3-2 Aana  94 Feet / Blacktopped  0-3-3-2 Aana   \n",
       "4  2079.0   180        3 Aana    10 Feet / Gravelled        3 Aana   \n",
       "\n",
       "        Posted                                          Amenities  \n",
       "0  3 weeks ago                                                 []  \n",
       "1  3 weeks ago  ['Drainage', 'Parking', 'Water Supply', 'Garde...  \n",
       "2  4 weeks ago                                                 []  \n",
       "3  1 month ago                                                 []  \n",
       "4  1 month ago  ['Parking', 'Wifi', 'Balcony', 'Water Supply',...  "
      ]
     },
     "execution_count": 255,
     "metadata": {},
     "output_type": "execute_result"
    }
   ],
   "source": [
    "df_noDup.head()"
   ]
  },
  {
   "cell_type": "code",
   "execution_count": 256,
   "id": "1a4cdfe3",
   "metadata": {},
   "outputs": [],
   "source": [
    "df_noDup['Address'] = df_noDup['Address'].str.split(\",\") #Splitting Address -> List\n",
    "city_col = []\n",
    "Address_short = []\n",
    "for x in df['Address']:\n",
    "    length = len(x)-1\n",
    "    city_col.append(x[length])    #Appending to City list\n",
    "    Address_short.append(x[length-1]) #Appending to short Address list\n",
    "    \n",
    "df_noDup['City'] = city_col\n",
    "df_noDup['Address_short'] = Address_short #Adding two columns of City and Address"
   ]
  },
  {
   "cell_type": "code",
   "execution_count": 66,
   "id": "7295451c",
   "metadata": {},
   "outputs": [],
   "source": []
  },
  {
   "cell_type": "code",
   "execution_count": 241,
   "id": "b57cc97a",
   "metadata": {
    "scrolled": true
   },
   "outputs": [
    {
     "data": {
      "text/plain": [
       "Title               0\n",
       "Address             0\n",
       "Price               0\n",
       "Bedroom             0\n",
       "Bathroom            0\n",
       "Floors           1410\n",
       "Parking             0\n",
       "Face                0\n",
       "Year             2011\n",
       "Views               0\n",
       "Area                0\n",
       "Road                0\n",
       "Build Area          0\n",
       "Posted              0\n",
       "Amenities           0\n",
       "City                0\n",
       "Address_short       0\n",
       "dtype: int64"
      ]
     },
     "execution_count": 241,
     "metadata": {},
     "output_type": "execute_result"
    }
   ],
   "source": [
    "df_noDup.isnull().sum()"
   ]
  },
  {
   "cell_type": "code",
   "execution_count": 257,
   "id": "c7b3f8c1",
   "metadata": {},
   "outputs": [
    {
     "name": "stdout",
     "output_type": "stream",
     "text": [
      "285  rows are of other districts\n"
     ]
    }
   ],
   "source": [
    "desired_cities = ['Kathmandu', 'Bhaktapur', 'Lalitpur']\n",
    "filtered_df = df_noDup[~df_noDup['City'].str.contains('|'.join(desired_cities))] #Filtering rows that dont belong to desired_cities\n",
    "print(len(filtered_df),\" rows are of other districts\")"
   ]
  },
  {
   "cell_type": "code",
   "execution_count": 258,
   "id": "c8f7385c",
   "metadata": {},
   "outputs": [],
   "source": [
    "newdf = df_noDup.drop(filtered_df.index) #Dropped rows that dont belong to desired_cities(Kathmandu Valley)"
   ]
  },
  {
   "cell_type": "code",
   "execution_count": 244,
   "id": "1b563870",
   "metadata": {},
   "outputs": [
    {
     "data": {
      "text/plain": [
       "(2787, 17)"
      ]
     },
     "execution_count": 244,
     "metadata": {},
     "output_type": "execute_result"
    }
   ],
   "source": [
    "newdf.shape"
   ]
  },
  {
   "cell_type": "code",
   "execution_count": 259,
   "id": "428d94fc",
   "metadata": {
    "scrolled": false
   },
   "outputs": [
    {
     "data": {
      "text/html": [
       "<div>\n",
       "<style scoped>\n",
       "    .dataframe tbody tr th:only-of-type {\n",
       "        vertical-align: middle;\n",
       "    }\n",
       "\n",
       "    .dataframe tbody tr th {\n",
       "        vertical-align: top;\n",
       "    }\n",
       "\n",
       "    .dataframe thead th {\n",
       "        text-align: right;\n",
       "    }\n",
       "</style>\n",
       "<table border=\"1\" class=\"dataframe\">\n",
       "  <thead>\n",
       "    <tr style=\"text-align: right;\">\n",
       "      <th></th>\n",
       "      <th>Title</th>\n",
       "      <th>Full_Address</th>\n",
       "      <th>Price</th>\n",
       "      <th>Bedroom</th>\n",
       "      <th>Bathroom</th>\n",
       "      <th>Floors</th>\n",
       "      <th>Parking</th>\n",
       "      <th>Face</th>\n",
       "      <th>Year</th>\n",
       "      <th>Views</th>\n",
       "      <th>Area</th>\n",
       "      <th>Road</th>\n",
       "      <th>Build Area</th>\n",
       "      <th>Posted</th>\n",
       "      <th>Amenities</th>\n",
       "      <th>City</th>\n",
       "      <th>Address</th>\n",
       "    </tr>\n",
       "  </thead>\n",
       "  <tbody>\n",
       "    <tr>\n",
       "      <th>0</th>\n",
       "      <td>Tokha House(Residential) : House For Sale In T...</td>\n",
       "      <td>[Grande Tole,  Tokha,  Kathmandu]</td>\n",
       "      <td>NPR. 3,50,00,000 Onwards</td>\n",
       "      <td>0</td>\n",
       "      <td>0</td>\n",
       "      <td>3.0</td>\n",
       "      <td>0</td>\n",
       "      <td>East</td>\n",
       "      <td>NaN</td>\n",
       "      <td>230</td>\n",
       "      <td>6-1 Aana</td>\n",
       "      <td>13 Feet</td>\n",
       "      <td>N/A Aana</td>\n",
       "      <td>3 weeks ago</td>\n",
       "      <td>[]</td>\n",
       "      <td>Kathmandu</td>\n",
       "      <td>Tokha</td>\n",
       "    </tr>\n",
       "    <tr>\n",
       "      <th>2</th>\n",
       "      <td>House For Sale In Tikathali, Lalitpur</td>\n",
       "      <td>[Mahalaxmi-05,  Tikathali,  Tikathali,  Lalitpur]</td>\n",
       "      <td>NPR. 1,70,00,000</td>\n",
       "      <td>2</td>\n",
       "      <td>1</td>\n",
       "      <td>1.0</td>\n",
       "      <td>1</td>\n",
       "      <td>North</td>\n",
       "      <td>NaN</td>\n",
       "      <td>164</td>\n",
       "      <td>0-3-1 Aana</td>\n",
       "      <td>13 Feet / Gravelled</td>\n",
       "      <td>785 Sq. Feet</td>\n",
       "      <td>4 weeks ago</td>\n",
       "      <td>[]</td>\n",
       "      <td>Lalitpur</td>\n",
       "      <td>Tikathali</td>\n",
       "    </tr>\n",
       "    <tr>\n",
       "      <th>3</th>\n",
       "      <td>COmmercial Property At Ringroad : House For Sa...</td>\n",
       "      <td>[Kusunti,  Ekantakuna,  Lalitpur]</td>\n",
       "      <td>NPR. 3,20,00,000 Per Ropani</td>\n",
       "      <td>0</td>\n",
       "      <td>3</td>\n",
       "      <td>NaN</td>\n",
       "      <td>2</td>\n",
       "      <td>North</td>\n",
       "      <td>NaN</td>\n",
       "      <td>194</td>\n",
       "      <td>0-3-3-2 Aana</td>\n",
       "      <td>94 Feet / Blacktopped</td>\n",
       "      <td>0-3-3-2 Aana</td>\n",
       "      <td>1 month ago</td>\n",
       "      <td>[]</td>\n",
       "      <td>Lalitpur</td>\n",
       "      <td>Ekantakuna</td>\n",
       "    </tr>\n",
       "    <tr>\n",
       "      <th>4</th>\n",
       "      <td>House For Sale In Tarkeshwor, Kathmandu</td>\n",
       "      <td>[Tarkeshor-5,  Aryaltar,  New Rangasala Basti,...</td>\n",
       "      <td>NPR. 1,70,00,000 Onwards</td>\n",
       "      <td>5</td>\n",
       "      <td>2</td>\n",
       "      <td>2.0</td>\n",
       "      <td>1</td>\n",
       "      <td>East</td>\n",
       "      <td>2079.0</td>\n",
       "      <td>180</td>\n",
       "      <td>3 Aana</td>\n",
       "      <td>10 Feet / Gravelled</td>\n",
       "      <td>3 Aana</td>\n",
       "      <td>1 month ago</td>\n",
       "      <td>['Parking', 'Wifi', 'Balcony', 'Water Supply',...</td>\n",
       "      <td>Kathmandu</td>\n",
       "      <td>Tarkeshwor</td>\n",
       "    </tr>\n",
       "    <tr>\n",
       "      <th>5</th>\n",
       "      <td>Bungalow For Sale In Gahanapokhari : House For...</td>\n",
       "      <td>[Gahana Pokhari,  Naxal,  Kathmandu]</td>\n",
       "      <td>NPR. 8,35,00,000 Onwards</td>\n",
       "      <td>4</td>\n",
       "      <td>4</td>\n",
       "      <td>3.0</td>\n",
       "      <td>0</td>\n",
       "      <td>South East</td>\n",
       "      <td>NaN</td>\n",
       "      <td>259</td>\n",
       "      <td>9-3-1 Aana</td>\n",
       "      <td>13 Feet</td>\n",
       "      <td>2800 Sq. Feet</td>\n",
       "      <td>1 month ago</td>\n",
       "      <td>['Lawn', 'Parking', 'Garden', 'Water Supply', ...</td>\n",
       "      <td>Kathmandu</td>\n",
       "      <td>Naxal</td>\n",
       "    </tr>\n",
       "  </tbody>\n",
       "</table>\n",
       "</div>"
      ],
      "text/plain": [
       "                                               Title  \\\n",
       "0  Tokha House(Residential) : House For Sale In T...   \n",
       "2              House For Sale In Tikathali, Lalitpur   \n",
       "3  COmmercial Property At Ringroad : House For Sa...   \n",
       "4            House For Sale In Tarkeshwor, Kathmandu   \n",
       "5  Bungalow For Sale In Gahanapokhari : House For...   \n",
       "\n",
       "                                        Full_Address  \\\n",
       "0                  [Grande Tole,  Tokha,  Kathmandu]   \n",
       "2  [Mahalaxmi-05,  Tikathali,  Tikathali,  Lalitpur]   \n",
       "3                  [Kusunti,  Ekantakuna,  Lalitpur]   \n",
       "4  [Tarkeshor-5,  Aryaltar,  New Rangasala Basti,...   \n",
       "5               [Gahana Pokhari,  Naxal,  Kathmandu]   \n",
       "\n",
       "                         Price  Bedroom  Bathroom  Floors  Parking  \\\n",
       "0     NPR. 3,50,00,000 Onwards        0         0     3.0        0   \n",
       "2             NPR. 1,70,00,000        2         1     1.0        1   \n",
       "3  NPR. 3,20,00,000 Per Ropani        0         3     NaN        2   \n",
       "4     NPR. 1,70,00,000 Onwards        5         2     2.0        1   \n",
       "5     NPR. 8,35,00,000 Onwards        4         4     3.0        0   \n",
       "\n",
       "         Face    Year Views          Area                   Road  \\\n",
       "0        East     NaN   230      6-1 Aana                13 Feet   \n",
       "2       North     NaN   164    0-3-1 Aana    13 Feet / Gravelled   \n",
       "3       North     NaN   194  0-3-3-2 Aana  94 Feet / Blacktopped   \n",
       "4        East  2079.0   180        3 Aana    10 Feet / Gravelled   \n",
       "5  South East     NaN   259    9-3-1 Aana                13 Feet   \n",
       "\n",
       "      Build Area       Posted  \\\n",
       "0       N/A Aana  3 weeks ago   \n",
       "2   785 Sq. Feet  4 weeks ago   \n",
       "3   0-3-3-2 Aana  1 month ago   \n",
       "4         3 Aana  1 month ago   \n",
       "5  2800 Sq. Feet  1 month ago   \n",
       "\n",
       "                                           Amenities        City      Address  \n",
       "0                                                 []   Kathmandu        Tokha  \n",
       "2                                                 []    Lalitpur    Tikathali  \n",
       "3                                                 []    Lalitpur   Ekantakuna  \n",
       "4  ['Parking', 'Wifi', 'Balcony', 'Water Supply',...   Kathmandu   Tarkeshwor  \n",
       "5  ['Lawn', 'Parking', 'Garden', 'Water Supply', ...   Kathmandu        Naxal  "
      ]
     },
     "execution_count": 259,
     "metadata": {},
     "output_type": "execute_result"
    }
   ],
   "source": [
    "newdf=newdf.rename(columns={'Address':'Full_Address','Address_short':'Address'})\n",
    "\n",
    "newdf.to_csv('Kathmandu_valley_dataset.csv',index = False)\n",
    "newdf.head()"
   ]
  },
  {
   "cell_type": "code",
   "execution_count": 49,
   "id": "cb05ead4",
   "metadata": {
    "scrolled": true
   },
   "outputs": [
    {
     "name": "stderr",
     "output_type": "stream",
     "text": [
      "C:\\Users\\Administrator\\AppData\\Local\\Temp\\ipykernel_15532\\3706232878.py:4: FutureWarning: The default value of regex will change from True to False in a future version.\n",
      "  cleandf['Price'] = cleandf['Price'].str.replace(string,'')\n"
     ]
    }
   ],
   "source": [
    "cleandf = pd.read_csv('Kathmandu_valley_dataset.csv')\n",
    "\n",
    "#Cleaning and Preprocessing Price column\n",
    "strings_to_replace = ['NPR.','Onwards','Total price','Total','Total Price','N/A','onwards','onward','Price','price',',','TOTAL PRICE']\n",
    "for string in strings_to_replace:\n",
    "    cleandf['Price'] = cleandf['Price'].str.replace(string,'')\n",
    "    cleandf['Price'] = cleandf['Price'].str.strip()\n",
    "\n"
   ]
  },
  {
   "cell_type": "code",
   "execution_count": 50,
   "id": "83bde0a8",
   "metadata": {},
   "outputs": [],
   "source": [
    "#Cleaning and Preprocessing Road column\n",
    "\n",
    "cleandf['Road'] = cleandf['Road'].str.split(\"/\")\n",
    "road = []\n",
    "for x in cleandf['Road']:\n",
    "    road.append(x.pop(0))\n",
    "    \n",
    "cleandf[\"Road\"] = road\n",
    "cleandf['Road'] = cleandf['Road'].str.replace(\"Feet\",\"\")\n",
    "cleandf['Road'] = cleandf['Road'].str.strip()\n",
    "for i, x in enumerate(cleandf['Road']):\n",
    "    if 'Meter' in x:\n",
    "        x = x.replace(\"Meter\", '').strip()\n",
    "        x = float(x) * 3.281\n",
    "        cleandf.loc[i, 'Road'] = x"
   ]
  },
  {
   "cell_type": "code",
   "execution_count": 20,
   "id": "0311937c",
   "metadata": {
    "scrolled": true
   },
   "outputs": [
    {
     "name": "stdout",
     "output_type": "stream",
     "text": [
      "(2644, 18)\n"
     ]
    }
   ],
   "source": [
    "cleandf.head()\n",
    "print(cleandf.shape)"
   ]
  },
  {
   "cell_type": "code",
   "execution_count": 23,
   "id": "6cea7cb9",
   "metadata": {},
   "outputs": [
    {
     "name": "stdout",
     "output_type": "stream",
     "text": [
      "71                                                   Title  \\\n",
      "893   New Japanese Style House For Business + Reside...   \n",
      "1514  Commercial Estate Land For Business : Land For...   \n",
      "1520  Fancy Shop Sale In Nayabazar : Business For Sa...   \n",
      "1521  Fancy Shop Sale In Shankhamul : Business For S...   \n",
      "1524               Business For Sale In Patan, Lalitpur   \n",
      "...                                                 ...   \n",
      "1796          Business For Sale In Pepsicola, Kathmandu   \n",
      "1797      Business For Sale In Old Baneshwor, Kathmandu   \n",
      "1817              Business For Sale In Naxal, Kathmandu   \n",
      "1823            Business For Sale In Godawari, Lalitpur   \n",
      "1834              Business For Sale In Jamal, Kathmandu   \n",
      "\n",
      "                                           Full_Address      Price  Bedroom  \\\n",
      "893   ['Khumaltar', ' 15', ' Civil Homes', ' Lalitpur']   60000000        5   \n",
      "1514  ['Basundhara', ' Ring Road', ' Dhapasi', ' Kat...     200000        0   \n",
      "1520         ['Nayabazar', ' Naya Bazar', ' Kathmandu']    3500000        0   \n",
      "1521         ['Shankhamul', ' Sankhamul', ' Kathmandu']     760000        0   \n",
      "1524                   ['Patan', ' Patan', ' Lalitpur']    3500000        0   \n",
      "...                                                 ...        ...      ...   \n",
      "1796          ['Pepsicola', ' Pepsicola', ' Kathmandu']     500000        0   \n",
      "1797  ['Old Baneshwor', ' Old Baneshwor', ' Kathmandu']    6000000        0   \n",
      "1817  ['Near', ' Bhat bhateni', ' Naxal', ' Kathmandu']    3000000        0   \n",
      "1823             ['Godawari', ' Godawari', ' Lalitpur']  251000000        0   \n",
      "1834                  ['Jamal', ' Jamal', ' Kathmandu']  170000000        0   \n",
      "\n",
      "      Bathroom  Floors  Parking        Face    Year Views           Area  \\\n",
      "893          4     4.0        2        East  2018.0  2.2K         5 Aana   \n",
      "1514         0     NaN        0  North West     NaN   203        10 Aana   \n",
      "1520         0     NaN        0  South West     NaN    98         1 Aana   \n",
      "1521         0     NaN        0  North West     NaN    81         1 Aana   \n",
      "1524         0     NaN        0        East     NaN   124  1500 Sq. Feet   \n",
      "...        ...     ...      ...         ...     ...   ...            ...   \n",
      "1796         0     NaN        0  South East     NaN   203   200 Sq. Feet   \n",
      "1797         0     NaN        0       South     NaN   317  1500 Sq. Feet   \n",
      "1817         0     NaN        0       South     NaN  4.9K   400 Sq. Feet   \n",
      "1823         0     NaN        0  North East     NaN   282    156.75 Aana   \n",
      "1834         0     NaN        0        West     NaN   552   0-7-0-0 Aana   \n",
      "\n",
      "      Road     Build Area        Posted  \\\n",
      "893    0.0      3000 Aana   2 years ago   \n",
      "1514  20.0        10 Aana   3 weeks ago   \n",
      "1520  16.0       N/A Aana   1 month ago   \n",
      "1521   0.0       N/A Aana   1 month ago   \n",
      "1524   0.0       N/A Aana  2 months ago   \n",
      "...    ...            ...           ...   \n",
      "1796   0.0   N/A Sq. Feet    1 year ago   \n",
      "1797   0.0   N/A Sq. Feet    1 year ago   \n",
      "1817  35.0   N/A Sq. Feet    1 year ago   \n",
      "1823  16.0   N/A Sq. Feet    1 year ago   \n",
      "1834  30.0  2000 Sq. Feet    1 year ago   \n",
      "\n",
      "                                              Amenities        City  \\\n",
      "893   ['Garage', 'Balcony', 'Garden', 'TV Cable', 'W...    Lalitpur   \n",
      "1514                                                 []   Kathmandu   \n",
      "1520                                                 []   Kathmandu   \n",
      "1521                                                 []   Kathmandu   \n",
      "1524                                                 []    Lalitpur   \n",
      "...                                                 ...         ...   \n",
      "1796                                                 []   Kathmandu   \n",
      "1797                       ['Drainage', 'Water Supply']   Kathmandu   \n",
      "1817                      ['Air Condition', 'TV Cable']   Kathmandu   \n",
      "1823                                                 []    Lalitpur   \n",
      "1834                                                 []   Kathmandu   \n",
      "\n",
      "             Address Area(Sq.Feet)  \n",
      "893      Civil Homes       1711.25  \n",
      "1514         Dhapasi        3422.5  \n",
      "1520      Naya Bazar        342.25  \n",
      "1521       Sankhamul        342.25  \n",
      "1524           Patan         1500   \n",
      "...              ...           ...  \n",
      "1796       Pepsicola          200   \n",
      "1797   Old Baneshwor         1500   \n",
      "1817           Naxal          400   \n",
      "1823        Godawari    59808.1875  \n",
      "1834           Jamal       2395.75  \n",
      "\n",
      "[71 rows x 18 columns]\n"
     ]
    }
   ],
   "source": [
    "desired_cities = ['Rent','Land For Sale','Business']\n",
    "filtered_df = cleandf[cleandf['Title'].str.contains('|'.join(desired_cities))] #Filtering rows that dont belong to desired_cities\n",
    "print(len(filtered_df),filtered_df)\n",
    "cleandf = cleandf.drop(filtered_df.index)"
   ]
  },
  {
   "cell_type": "code",
   "execution_count": 38,
   "id": "e0baab16",
   "metadata": {},
   "outputs": [
    {
     "data": {
      "text/plain": [
       "(1767, 18)"
      ]
     },
     "execution_count": 38,
     "metadata": {},
     "output_type": "execute_result"
    }
   ],
   "source": [
    "cleandf.shape"
   ]
  },
  {
   "cell_type": "code",
   "execution_count": 37,
   "id": "1d7971aa",
   "metadata": {},
   "outputs": [
    {
     "data": {
      "text/plain": [
       "Title              0\n",
       "Full_Address       0\n",
       "Price              0\n",
       "Bedroom            0\n",
       "Bathroom           0\n",
       "Floors           513\n",
       "Parking            0\n",
       "Face               0\n",
       "Year             897\n",
       "Views              0\n",
       "Area               0\n",
       "Road               0\n",
       "Build Area         0\n",
       "Posted             0\n",
       "Amenities          0\n",
       "City               0\n",
       "Address            0\n",
       "Area(Sq.Feet)      0\n",
       "dtype: int64"
      ]
     },
     "execution_count": 37,
     "metadata": {},
     "output_type": "execute_result"
    }
   ],
   "source": [
    "cleandf.isnull().sum()"
   ]
  },
  {
   "cell_type": "code",
   "execution_count": 48,
   "id": "55802bb2",
   "metadata": {
    "scrolled": true
   },
   "outputs": [
    {
     "ename": "SyntaxError",
     "evalue": "invalid syntax (4021118680.py, line 23)",
     "output_type": "error",
     "traceback": [
      "\u001b[1;36m  File \u001b[1;32m\"C:\\Users\\Administrator\\AppData\\Local\\Temp\\ipykernel_916\\4021118680.py\"\u001b[1;36m, line \u001b[1;32m23\u001b[0m\n\u001b[1;33m    elif len(numbers) == 4 and numbers[0]==0:\u001b[0m\n\u001b[1;37m    ^\u001b[0m\n\u001b[1;31mSyntaxError\u001b[0m\u001b[1;31m:\u001b[0m invalid syntax\n"
     ]
    }
   ],
   "source": [
    "#Cleaning and Preprocessing Land Area\n",
    "def calculate_land_area(data):\n",
    "    data = data.replace('.','-').strip()\n",
    "    data = data.replace(',','-').strip()\n",
    "    \n",
    "    patterns = ['Aana','aana','AANA','Ropani','Sq-Feet','Sq- Feet']\n",
    "    # Split the data by whitespace and '-' to extract the numbers\n",
    "    for pattern in patterns:\n",
    "        if pattern in data :\n",
    "            numbers = [int(num) for num in data.replace('-',' ').split() if num.isdigit()]\n",
    "            if len(numbers) == 1:\n",
    "                return (numbers[0])\n",
    "            elif len(numbers) == 2 and numbers[0]!=0:\n",
    "                return (numbers[0] + numbers[1]/4)\n",
    "            elif len(numbers) == 2 and numbers[0]==0:\n",
    "                return (numbers[1]) \n",
    "            elif len(numbers) == 3 and numbers[0]!=0:\n",
    "                return (numbers[0] + numbers[1]/4 )\n",
    "            elif len(numbers) == 3 and numbers[0]==0:\n",
    "                return (numbers[1] + numbers[2]/4 )\n",
    "            elif len(numbers) == 4 and numbers[0]!=0:\n",
    "                return (numbers[0]*16 + numbers[1] + float(numbers[2]/4) + float(numbers[3]/16)\n",
    "            elif len(numbers) == 4 and numbers[0]==0:\n",
    "                 return (numbers[1] + float(numbers[2]/4) + float(numbers[3]/16) )\n",
    "            elif len(numbers) == 5 and numbers[0]==0:\n",
    "                return (numbers[1] + float(numbers[2]/4) + float(numbers[3]/16) )\n",
    "            else:\n",
    "                return None\n",
    "    # Calculate the land area in Aana\n",
    "   \n",
    "\n",
    "# Test the function with the provided data patterns\n",
    "# data_patterns = [\n",
    "#     \"6-1 Aana\",\n",
    "#     \"0-3-1 Aana\",\n",
    "#     \"0-3-3-2 Aana\",\n",
    "#     \"3 Aana\"\n",
    "# ]\n",
    "\n",
    "for i,x in enumerate(cleandf['Area']):\n",
    "    squareFeetPatterns = ['Sq.Feet','Sq. Feet','Sq.  Feet','dont know','sqft']\n",
    "    meterPatterns = ['Sq. Meter','sqm','sq.meter','Sq.Meter']\n",
    "    land_area = calculate_land_area(x)\n",
    "    if(land_area!=None):\n",
    "        cleandf.loc[i,'Area(Sq.Feet)'] = land_area*342.25\n",
    "        \n",
    "    for pattern in squareFeetPatterns:\n",
    "        if pattern in x and '-' not in x:\n",
    "                cleandf.loc[i,'Area(Sq.Feet)'] =  cleandf.loc[i,'Area'].replace(pattern ,'').strip()\n",
    "                cleandf.loc[i,'Area(Sq.Feet)'] =  cleandf.loc[i,'Area']\n",
    "                \n",
    "                \n",
    "    for pattern in meterPatterns:\n",
    "         if pattern in x:\n",
    "#                 cleandf[i,'Area(Sq.Feet)'] = float(x.replace(pattern,'').strip())*10.7639\n",
    "                cleandf.loc[i,'Area(Sq.Feet)'] = float(x.replace(pattern,'').strip())*10.7639\n",
    "                cleandf.loc[i,'Area(Sq.Feet)'] =  cleandf.loc[i,'Area'].replace('Sq. Meter' ,'')\n",
    "                \n",
    "    \n",
    "#         print(f\"{i} {x}: {land_area*342.23} Sq.Feet\")\n",
    "    \n",
    "#                 print(cleandf.loc[i,'Area(Sq.Feet)'])       \n",
    "   \n",
    "#     if '.' in x:\n",
    "#         if 'Aana' in x:\n",
    "#             x= x.replace('Aana','').strip()\n",
    "#             if(len(x)==3):\n",
    "#                 cleandf.loc[i,'Area(Sq.Feet)'] = float(x)*342.25\n",
    "#             if(len(x)==4):\n",
    "#                 cleandf.loc[i,'Area(Sq.Feet)'] = float(x)*342.25\n",
    "#             if(len(x)==5):\n",
    "#                 print(x)\n",
    "#         if 'Ropani' in x:\n",
    "#             x= x.replace('Ropani','').strip()\n",
    "#             if '+' in x:\n",
    "#                 x = x.replace('+','')\n",
    "#                 cleandf.loc[i,'Area(Sq.Feet)'] = float(x)*5476\n",
    "#             if(len(x)==3):\n",
    "#                 cleandf.loc[i,'Area(Sq.Feet)'] = float(x)*5476\n",
    "#             if(len(x)==4):\n",
    "#                 cleandf.loc[i,'Area(Sq.Feet)'] = float(x)*5476\n",
    "#             if(len(x)==5):\n",
    "#                 cleandf.loc[i,'Area(Sq.Feet)'] = float(x)*5476\n",
    "        \n"
   ]
  },
  {
   "cell_type": "code",
   "execution_count": 75,
   "id": "d610574d",
   "metadata": {
    "scrolled": true
   },
   "outputs": [
    {
     "data": {
      "text/plain": [
       "(1767, 19)"
      ]
     },
     "execution_count": 75,
     "metadata": {},
     "output_type": "execute_result"
    }
   ],
   "source": [
    "cleandf = pd.read_csv('dataset_cleaning.csv')\n",
    "cleandf.shape"
   ]
  },
  {
   "cell_type": "code",
   "execution_count": 10,
   "id": "87a538ec",
   "metadata": {},
   "outputs": [],
   "source": [
    "cleandf.drop_duplicates(subset=['Bedroom','Bathroom','Parking','Area','Road', 'Price','Face','Amenities','City','Address','Floors','Build Area'], keep='first', inplace=True) # Dropped duplicates\n"
   ]
  },
  {
   "cell_type": "code",
   "execution_count": 39,
   "id": "ff71c3a4",
   "metadata": {},
   "outputs": [
    {
     "ename": "ValueError",
     "evalue": "Cannot mask with non-boolean array containing NA / NaN values",
     "output_type": "error",
     "traceback": [
      "\u001b[1;31m---------------------------------------------------------------------------\u001b[0m",
      "\u001b[1;31mValueError\u001b[0m                                Traceback (most recent call last)",
      "\u001b[1;32m~\\AppData\\Local\\Temp\\ipykernel_916\\144193399.py\u001b[0m in \u001b[0;36m<module>\u001b[1;34m\u001b[0m\n\u001b[0;32m      2\u001b[0m \u001b[1;33m\u001b[0m\u001b[0m\n\u001b[0;32m      3\u001b[0m \u001b[1;31m# Retrieve the null values\u001b[0m\u001b[1;33m\u001b[0m\u001b[1;33m\u001b[0m\u001b[0m\n\u001b[1;32m----> 4\u001b[1;33m \u001b[0mnull_values\u001b[0m \u001b[1;33m=\u001b[0m \u001b[0mcleandf\u001b[0m\u001b[1;33m[\u001b[0m\u001b[1;34m'Area(Sq.Feet)'\u001b[0m\u001b[1;33m]\u001b[0m\u001b[1;33m[\u001b[0m\u001b[0mnull_mask\u001b[0m\u001b[1;33m]\u001b[0m\u001b[1;33m\u001b[0m\u001b[1;33m\u001b[0m\u001b[0m\n\u001b[0m\u001b[0;32m      5\u001b[0m \u001b[1;33m\u001b[0m\u001b[0m\n\u001b[0;32m      6\u001b[0m \u001b[1;31m# Retrieve the locations of the null values\u001b[0m\u001b[1;33m\u001b[0m\u001b[1;33m\u001b[0m\u001b[0m\n",
      "\u001b[1;32mD:\\Softwares\\anaconda\\lib\\site-packages\\pandas\\core\\series.py\u001b[0m in \u001b[0;36m__getitem__\u001b[1;34m(self, key)\u001b[0m\n\u001b[0;32m    977\u001b[0m             \u001b[0mkey\u001b[0m \u001b[1;33m=\u001b[0m \u001b[0mlist\u001b[0m\u001b[1;33m(\u001b[0m\u001b[0mkey\u001b[0m\u001b[1;33m)\u001b[0m\u001b[1;33m\u001b[0m\u001b[1;33m\u001b[0m\u001b[0m\n\u001b[0;32m    978\u001b[0m \u001b[1;33m\u001b[0m\u001b[0m\n\u001b[1;32m--> 979\u001b[1;33m         \u001b[1;32mif\u001b[0m \u001b[0mcom\u001b[0m\u001b[1;33m.\u001b[0m\u001b[0mis_bool_indexer\u001b[0m\u001b[1;33m(\u001b[0m\u001b[0mkey\u001b[0m\u001b[1;33m)\u001b[0m\u001b[1;33m:\u001b[0m\u001b[1;33m\u001b[0m\u001b[1;33m\u001b[0m\u001b[0m\n\u001b[0m\u001b[0;32m    980\u001b[0m             \u001b[0mkey\u001b[0m \u001b[1;33m=\u001b[0m \u001b[0mcheck_bool_indexer\u001b[0m\u001b[1;33m(\u001b[0m\u001b[0mself\u001b[0m\u001b[1;33m.\u001b[0m\u001b[0mindex\u001b[0m\u001b[1;33m,\u001b[0m \u001b[0mkey\u001b[0m\u001b[1;33m)\u001b[0m\u001b[1;33m\u001b[0m\u001b[1;33m\u001b[0m\u001b[0m\n\u001b[0;32m    981\u001b[0m             \u001b[0mkey\u001b[0m \u001b[1;33m=\u001b[0m \u001b[0mnp\u001b[0m\u001b[1;33m.\u001b[0m\u001b[0masarray\u001b[0m\u001b[1;33m(\u001b[0m\u001b[0mkey\u001b[0m\u001b[1;33m,\u001b[0m \u001b[0mdtype\u001b[0m\u001b[1;33m=\u001b[0m\u001b[0mbool\u001b[0m\u001b[1;33m)\u001b[0m\u001b[1;33m\u001b[0m\u001b[1;33m\u001b[0m\u001b[0m\n",
      "\u001b[1;32mD:\\Softwares\\anaconda\\lib\\site-packages\\pandas\\core\\common.py\u001b[0m in \u001b[0;36mis_bool_indexer\u001b[1;34m(key)\u001b[0m\n\u001b[0;32m    142\u001b[0m                     \u001b[1;31m# Don't raise on e.g. [\"A\", \"B\", np.nan], see\u001b[0m\u001b[1;33m\u001b[0m\u001b[1;33m\u001b[0m\u001b[0m\n\u001b[0;32m    143\u001b[0m                     \u001b[1;31m#  test_loc_getitem_list_of_labels_categoricalindex_with_na\u001b[0m\u001b[1;33m\u001b[0m\u001b[1;33m\u001b[0m\u001b[0m\n\u001b[1;32m--> 144\u001b[1;33m                     \u001b[1;32mraise\u001b[0m \u001b[0mValueError\u001b[0m\u001b[1;33m(\u001b[0m\u001b[0mna_msg\u001b[0m\u001b[1;33m)\u001b[0m\u001b[1;33m\u001b[0m\u001b[1;33m\u001b[0m\u001b[0m\n\u001b[0m\u001b[0;32m    145\u001b[0m                 \u001b[1;32mreturn\u001b[0m \u001b[1;32mFalse\u001b[0m\u001b[1;33m\u001b[0m\u001b[1;33m\u001b[0m\u001b[0m\n\u001b[0;32m    146\u001b[0m             \u001b[1;32mreturn\u001b[0m \u001b[1;32mTrue\u001b[0m\u001b[1;33m\u001b[0m\u001b[1;33m\u001b[0m\u001b[0m\n",
      "\u001b[1;31mValueError\u001b[0m: Cannot mask with non-boolean array containing NA / NaN values"
     ]
    }
   ],
   "source": [
    "\n",
    "\n",
    "null_mask = cleandf['Area(Sq.Feet)'].str.contains('Sq. Feet')\n",
    "\n",
    "# Retrieve the null values\n",
    "null_values = cleandf['Area(Sq.Feet)'][null_mask]\n",
    "\n",
    "# Retrieve the locations of the null values\n",
    "null_locations = null_values.index\n",
    "for x in null_locations:\n",
    "    print(cleandf['Area(Sq.Feet)'][x],\"loc:\",x)\n",
    "#     if(x==339):\n",
    "#         cleandf['Area(Sq.Feet)'][x] = 1197.84\n",
    "#     if(x==1219):\n",
    "#         cleandf['Area(Sq.Feet)'][x] = 2004.75\n",
    "#     if(x==1135):\n",
    "#         cleandf['Area(Sq.Feet)'][x] = 684.48\n",
    "        \n",
    "    \n",
    "    "
   ]
  },
  {
   "cell_type": "code",
   "execution_count": 50,
   "id": "de106f3b",
   "metadata": {},
   "outputs": [
    {
     "name": "stdout",
     "output_type": "stream",
     "text": [
      "1509 0.0\n",
      "[2139.0625, 1112.3125, 1326.21875, 1026.75, 3336.9375, 1711.25, 7529.5, 4449.25, 1369.0, 1197.875, 1369.0, 1026.75, 3422.5, 1369.0, 1369.0, 1454.5625, 7101.6875, 1112.3125, 1197.875, 4107.0, 2053.5, 1540.125, 1026.75, 2053.5, 2738.0, 1026.75, 128.8, 1369.0, 2909.125, 919.796875, 1112.3125, 1197.875, 1540.125, 1711.25, 2738.0, 1283.4375, 1240.65625, 3657.796875, 1197.875, 1369.0, 1197.875, 1197.875, 1882.375, 2203.234375, 1219.265625, 2053.5, 2738.0, 1369.0, 1369.0, 1112.3125, 1026.75, 1026.75, 1369.0, 1197.875, 1369.0, 1454.5625, 1711.25, 1711.25, 2631.046875, 4449.25, 1112.3125, 1026.75, 1026.75, 1711.25, 3508.0625, 1369.0, 1112.3125, 1005.359375, 1711.25, 3764.75, 1710.0, 1711.25, 1369.0, 2738.0, 2053.5, 2481.3125, 1026.75, 1026.75, 1197.875, 1026.75, 941.1875, 1796.8125, 2139.0625, 855.625, 2909.125, 5476.0, 1796.8125, 1240.65625, 3080.25, 8128.4375, 3764.75, 1369.0, 3508.0625, 1369.0, 2053.5, 1796.8125, 1112.3125, 6160.5, 1369.0, 2395.75, 4107.0, 6160.5, 2738.0, 1026.75, 5476.0, 3016.078125, 1197.875, 1796.8125, 1197.875, 1197.875, 1197.875, 2823.5625, 1796.8125, 1026.75, 1796.8125, 1625.6875, 1711.25, 1540.125, 1411.78125, 1197.875, 1369.0, 960.0, 2053.5, 1711.25, 1882.375, 5476.0, 1540.125, 1112.3125, 1711.25, 2909.125, 770.0625, 1283.4375, 1882.375, 2053.5, 1283.4375, 1369.0, 2117.671875, 8214.0, 8214.0, 2395.75, 3764.75, 1112.3125, 4791.5, 427.8125, 1711.25, 1197.875, 1026.75, 2053.5, 1967.9375, 2224.625, 2053.5, 2053.5, 1796.8125, 1369.0, 1197.875, 1219.265625, 1497.34375, 1197.875, 1197.875, 1026.75, 1026.75, 1668.46875, 1026.75, 4107.0, 3080.25, 3336.9375, 1796.8125, 1369.0, 1882.375, 5818.25, 11636.5, 427.8125, 2053.5, 1369.0, 1026.75, 342.25, 1711.25, 1369.0, 0.0, 1369.0, 3080.25, 10952.0, 1369.0, 1454.5625, 1112.3125, 1369.0, 1026.75, 1711.25, 2738.0, 2053.5, 3422.5, 1369.0, 1240.65625, 1219.265625, 1112.3125, 3251.375, 1347.609375, 2395.75, 1133.703125, 962.578125, 2600.0, 3251.375, 1240.65625, 2673.828125, 7508.109375, 1369.0, 2866.34375, 3080.25, 2759.390625, 2738.0, 2310.1875, 1369.0, 1711.25, 855.625, 1197.875, 1454.5625, 1048.140625, 1048.140625, 1732.640625, 1433.171875, 2738.0, 1711.25, 1026.75, 1369.0, 1283.4375, 1454.5625, 7443.9375, 1369.0, 1433.171875, 1711.25, 5818.25, 1711.25, 1796.8125, 4107.0, 1369.0, 1882.375, 1711.25, 1369.0, 1026.75, 1711.25, 2053.5, 1112.3125, 3422.5, 1369.0, 2310.1875, 4877.0625, 2053.5, 1369.0, 1112.3125, 1197.875, 1155.09375, 1540.125, 1197.875, 4192.5625, 1369.0, 2139.0625, 7871.75, 3422.5, 1390.390625, 2395.75, 1711.25, 3422.5, 1283.4375, 1540.125, 1647.078125, 855.625, 1197.875, 1026.75, 1711.25, 1155.09375, 1796.8125, 1197.875, 2738.0, 2395.75, 3080.25, 1796.8125, 1026.75, 1369.0, 1112.3125, 1369.0, 3422.5, 1711.25, 2738.0, 2909.125, 1026.75, 4107.0, 7786.1875, 1026.75, 2139.0625, 3251.375, 2566.875, 1026.75, 1112.3125, 1197.875, 2053.5, 342.25, 1711.25, 7615.0625, 1796.8125, 2481.3125, 7101.6875, 1540.125, 1197.875, 1369.0, 2481.3125, 1026.75, 1026.75, 1732.640625, 1026.75, 2738.0, 1540.125, 1369.0, 1026.75, 1369.0, 1369.0, 4107.0, 1283.4375, 2053.5, 1369.0, 1882.375, 855.625, 1454.5625, 1026.75, 1112.3125, 1026.75, 1369.0, 855.625, 1112.3125, 1369.0, 1369.0, 2224.625, 2738.0, 1369.0, 1197.875, 3080.25, 1711.25, 1026.75, 1369.0, 1133.703125, 1197.84, 1026.75, 1197.875, 1026.75, 1197.875, 1369.0, 1026.75, 1112.3125, 1112.3125, 1540.125, 855.625, 1369.0, 1882.375, 1882.375, 1369.0, 2139.0625, 1369.0, 1454.5625, 1026.75, 1369.0, 1540.125, 1540.125, 941.1875, 1540.125, 1369.0, 1369.0, 1026.75, 1197.875, 1369.0, 1711.25, 1711.25, 1026.75, 3593.625, 1026.75, 2738.0, 320.859375, 2053.5, 1026.75, 8214.0, 1369.0, 1197.875, 1197.875, 3764.75, 1540.125, 1369.0, 4278.125, 1026.75, 1369.0, 1369.0, 1112.3125, 1711.25, 1026.75, 2053.5, 1026.75, 1026.75, 1197.875, 1369.0, 1026.75, 1133.703125, 855.625, 2139.0625, 2053.5, 941.1875, 1197.875, 1026.75, 1069.53125, 1026.75, 1197.875, 11636.5, 1369.0, 1369.0, 2738.0, 941.1875, 1133.703125, 1197.875, 1197.875, 10952.0, 1133.703125, 1197.875, 1369.0, 1283.4375, 1754.03125, 1283.4375, 6160.5, 1197.875, 1112.3125, 1369.0, 1796.8125, 770.0625, 1197.875, 1026.75, 1454.5625, 1048.140625, 1561.515625, 1454.5625, 1197.875, 1369.0, 1026.75, 1796.8125, 5476.0, 2053.5, 1048.140625, 1369.0, 1026.75, 7187.25, 1839.59375, 1026.75, 855.625, 1711.25, 1112.3125, 1026.75, 855.625, 1283.4375, 1369.0, 855.625, 1240.65625, 1026.75, 1711.25, 1197.875, 1454.5625, 855.625, 1369.0, 1369.0, 10952.0, 4449.25, 1026.75, 941.1875, 1540.125, 1026.75, 855.625, 855.625, 2053.5, 1369.0, 1197.875, 1369.0, 2053.5, 1197.875, 1497.34375, 770.0625, 1540.125, 1283.4375, 1283.4375, 855.625, 1369.0, 1112.3125, 1711.25, 1369.0, 1026.75, 1711.25, 1283.4375, 1112.3125, 1369.0, 1369.0, 1369.0, 941.1875, 1112.3125, 1369.0, 855.625, 2053.5, 1197.875, 1026.75, 1369.0, 1369.0, 1454.5625, 1711.25, 2053.5, 1711.25, 1283.4375, 1026.75, 1112.3125, 1133.703125, 1026.75, 1454.5625, 941.1875, 1112.3125, 1283.4375, 1369.0, 1048.140625, 1711.25, 3123.03125, 3251.375, 2738.0, 1026.75, 1197.875, 1197.875, 898.40625, 2139.0625, 1240.65625, 1026.75, 1197.875, 1112.3125, 1197.875, 2738.0, 1454.5625, 1197.875, 1369.0, 1026.75, 2139.0625, 855.625, 770.0625, 770.0625, 1197.875, 1026.75, 1540.125, 1369.0, 1197.875, 684.5, 1369.0, 1283.4375, 1561.515625, 1197.875, 1711.25, 12663.25, 3764.75, 5476.0, 20535.0, 1369.0, 1026.75, 941.1875, 1026.75, 1026.75, 919.796875, 1540.125, 1689.859375, 1112.3125, 53.67, 855.625, 1112.3125, 1754.03125, 1625.6875, 1454.5625, 1026.75, 1262.046875, 1262.046875, 3058.859375, 1026.75, 2053.5, 1625.6875, 1711.25, 4107.0, 705.890625, 1005.359375, 1625.6875, 1967.9375, 1048.140625, 1133.703125, 7786.1875, 1711.25, 1369.0, 6738.046875, 2053.5, 1754.03125, 1026.75, 1197.875, 1411.78125, 1711.25, 1197.875, 1454.5625, 6845.0, 3080.25, 1882.375, 1112.3125, 1540.125, 1925.15625, 1262.046875, 1240.65625, 855.625, 1540.125, 1369.0, 877.015625, 910.0, 748.671875, 1967.9375, 3764.75, 2502.703125, 1540.125, 2053.5, 1197.875, 1069.53125, 1112.3125, 1540.125, 1540.125, 1369.0, 1369.0, 1347.609375, 1369.0, 1219.265625, 2053.5, 1262.046875, 1197.875, 1369.0, 1133.703125, 1197.875, 3080.25, 1240.65625, 1369.0, 1711.25, 111.0, 1197.875, 2395.75, 2053.5, 1347.609375, 1026.75, 1369.0, 406.421875, 1369.0, 1197.875, 1796.8125, 1882.375, 1026.75, 10952.0, 11722.0625, 1369.0, 1369.0, 1197.875, 877.015625, 85.5625, 1100.0, 983.96875, 1197.875, 1540.125, 2139.0625, 1540.125, 1540.125, 2738.0, 1026.75, 1197.875, 770.0625, 1026.75, 941.1875, 1026.75, 11636.5, 941.1875, 1197.875, 1711.25, 1369.0, 1369.0, 1026.75, 1240.65625, 1369.0, 1112.3125, 1796.8125, 1197.875, 1197.875, 3080.25, 2481.3125, 2994.6875, 855.625, 1582.90625, 1711.25, 6845.0, 6845.0, 4107.0, 2395.75, 1369.0, 6160.5, 1197.875, 1711.25, 7529.5, 1711.25, 1026.75, 1711.25, 1026.75, 1796.8125, 4192.5625, 1369.0, 5476.0, 855.625, 1369.0, 1711.25, 3764.75, 1561.515625, 0.0, 1369.0, 6845.0, 941.1875, 4107.0, 1283.4375, 1369.0, 1796.8125, 8214.0, 1796.8125, 1026.75, 2738.0, 3764.75, 1882.375, 1026.75, 1026.75, 1026.75, 48.68, 1454.5625, 1369.0, 1369.0, 1369.0, 1283.4375, 1197.875, 1026.75, 2395.75, 1369.0, 3764.75, 2139.0625, 17797.0, 6845.0, 2395.75, 2738.0, 1369.0, 6845.0, 4107.0, 2738.0, 2652.4375, 1454.5625, 1026.75, 1112.3125, 1561.515625, 1925.15625, 1711.25, 855.625, 2395.75, 1967.9375, 2139.0625, 3764.75, 1582.90625, 1796.8125, 11208.6875, 2053.5, 684.5, 2738.0, 10267.5, 342.25, 2738.0, 2053.5, 1796.8125, 2738.0, 3058.859375, 2738.0, 6502.75, 2139.0625, 7187.25, 2395.75, 1369.0, 1026.75, 2139.0625, 1112.3125, 6160.5, 1540.125, 2053.5, 770.0625, 2053.5, 1026.75, 2224.625, 7529.5, 2053.5, 1347.609375, 3508.0625, 1380.0, 2395.75, 1454.5625, 1048.140625, 2395.75, 919.796875, 3080.25, 1369.0, 4791.5, 1112.3125, 2053.5, 1069.53125, 1112.3125, 2053.5, 1454.5625, 1219.265625, 1454.5625, 5304.875, 1112.3125, 770.0625, 7786.1875, 2224.625, 1283.4375, 1454.5625, 342.25, 55102.25, 1026.75, 1796.8125, 1369.0, 1369.0, 1454.5625, 1197.875, 1197.875, 941.1875, 941.1875, 1711.25, 1369.0, 919.796875, 1112.3125, 11636.5, 1026.75, 1369.0, 1048.140625, 1369.0, 2139.0625, 4107.0, 1561.515625, 2053.5, 8898.5, 1711.25, 2053.5, 8898.5, 1369.0, 1197.875, 1369.0, 1711.25, 3379.71875, 10267.5, 1540.125, 1625.6875, 1112.3125, 2738.0, 4877.0625, 1026.75, 4107.0, 2738.0, 1796.8125, 2738.0, 2823.5625, 748.671875, 2053.5, 1711.25, 1454.5625, 1219.265625, 10267.5, 1112.3125, 4192.5625, 3529.453125, 1796.8125, 1711.25, 5476.0, 1283.4375, 3422.5, 4877.0625, 2738.0, 18567.0625, 3422.5, 1711.25, 1711.25, 4877.0625, 2481.3125, 1112.3125, 1625.6875, 120.0, 1197.875, 3508.0625, 2139.0625, 1475.953125, 1283.4375, 4107.0, 1026.75, 1197.875, 1711.25, 10952.0, 855.625, 1882.375, 6673.875, 4385.078125, 4406.46875, 1369.0, 1540.125, 1711.25, 1369.0, 2738.0, 1369.0, 1197.875, 1197.875, 7187.25, 6502.75, 1369.0, 2139.0625, 6502.75, 1197.875, 1026.75, 3422.5, 7187.25, 1369.0, 2395.75, 1369.0, 1711.25, 3764.75, 1112.3125, 10267.5, 3080.25, 1454.5625, 4107.0, 1711.25, 1369.0, 1112.3125, 1369.0, 1369.0, 1796.8125, 1112.3125, 2738.0, 1369.0, 1818.203125, 1711.25, 1112.3125, 1197.875, 1475.953125, 2994.6875, 1026.75, 1112.3125, 1369.0, 1411.78125, 1026.75, 1369.0, 1112.3125, 1155.09375, 1026.75, 1197.875, 1369.0, 1369.0, 1711.25, 1112.3125, 1026.75, 941.1875, 1818.203125, 1625.6875, 1711.25, 1090.921875, 2738.0, 1240.65625, 1112.3125, 1197.875, 1369.0, 1369.0, 1369.0, 2053.5, 7443.9375, 2053.5, 1026.75, 1283.4375, 7786.1875, 1369.0, 1711.25, 1112.3125, 2053.5, 6502.75, 1026.75, 1197.875, 1369.0, 1711.25, 2053.5, 855.625, 1711.25, 1026.75, 2738.0, 1026.75, 2139.0625, 4534.8125, 4107.0, 1711.25, 2481.3125, 1026.75, 1369.0, 1197.875, 1026.75, 2053.5, 4107.0, 7187.25, 1026.75, 4107.0, 3080.25, 1369.0, 256.6875, 2738.0, 1625.6875, 1369.0, 1369.0, 3208.59375, 3422.5, 1754.03125, 2652.4375, 7187.25, 4449.25, 2053.5, 3764.75, 1796.8125, 1454.5625, 3422.5, 2738.0, 1112.3125, 5818.25, 4107.0, 2053.5, 2053.5, 1197.875, 1090.921875, 855.625, 1197.875, 1411.78125, 1026.75, 1369.0, 2139.0625, 1112.3125, 2395.75, 7443.9375, 1796.8125, 342.25, 1026.75, 7443.9375, 1026.75, 1369.0, 1026.75, 7529.5, 7187.25, 2053.5, 1112.3125, 1796.8125, 6845.0, 1369.0, 1711.25, 7358.375, 1369.0, 1647.078125, 3165.8125, 1112.3125, 1048.140625, 4791.5, 1026.75, 1454.5625, 1026.75, 1369.0, 1369.0, 1711.25, 2139.0625, 1967.9375, 1026.75, 6502.75, 2053.5, 1369.0, 1369.0, 3764.75, 1711.25, 3165.8125, 2395.75, 1711.25, 1454.5625, 1369.0, 1625.6875, 4962.625, 8128.4375, 6845.0, 1112.3125, 1369.0, 1112.3125, 1197.875, 1369.0, 2395.75, 2139.0625, 2395.75, 1369.0, 1711.25, 2053.5, 3080.25, 1540.125, 1197.875, 1454.5625, 1369.0, 1369.0, 1796.8125, 2481.3125, 1369.0, 1454.5625, 3080.25, 2738.0, 7443.9375, 7786.1875, 1197.875, 1197.875, 1069.53125, 1112.3125, 2053.5, 1454.5625, 1219.265625, 2053.5, 1069.53125, 1026.75, 1155.09375, 2930.515625, 1026.75, 1369.0, 1454.5625, 18823.75, 1369.0, 3165.8125, 2395.75, 2139.0625, 1048.140625, 7101.6875, 2823.5625, 684.48, 1026.75, 1197.875, 4107.0, 1454.5625, 2738.0, 1454.5625, 7187.25, 1112.3125, 1026.75, 5818.25, 4107.0, 2053.5, 4791.5, 1369.0, 1369.0, 1711.25, 1625.6875, 1796.8125, 2738.0, 1112.3125, 1369.0, 2395.75, 24984.25, 1369.0, 1711.25, 1048.140625, 2139.0625, 1369.0, 1112.3125, 1369.0, 4449.25, 1112.3125, 1454.5625, 2738.0, 1369.0, 5476.0, 5133.75, 2224.625, 3422.5, 855.625, 1540.125, 1967.9375, 1711.25, 1197.875, 1796.8125, 1711.25, 2053.5, 1796.8125, 1026.75, 1112.3125, 1112.3125, 1133.703125, 1026.75, 3080.25, 1369.0, 1711.25, 5133.75, 3422.5, 2823.5625, 5818.25, 2738.0, 1069.53125, 855.625, 2395.75, 1026.75, 1048.140625, 2566.875, 1711.25, 1454.5625, 1540.125, 1454.5625, 1048.140625, 1454.5625, 1369.0, 1967.9375, 1026.75, 2053.5, 1026.75, 1711.25, 1369.0, 1369.0, 1390.390625, 1026.75, 2004.75, 919.796875, 1369.0, 1026.75, 1026.75, 1112.3125, 1026.75, 1369.0, 6845.0, 6160.5, 2823.5625, 1796.8125, 1711.25, 2481.3125, 6160.5, 2224.625, 1026.75, 941.1875, 1112.3125, 962.578125, 1197.875, 1711.25, 1026.75, 1369.0, 1369.0, 1197.875, 2139.0625, 1026.75, 898.40625, 941.1875, 1882.375, 2139.0625, 1026.75, 1369.0, 2395.75, 1112.3125, 1796.8125, 1369.0, 1454.5625, 1090.921875, 855.625, 3080.25, 10.0, 1197.875, 1454.5625, 1711.25, 2310.1875, 1454.5625, 1711.25, 1454.5625, 1454.5625, 1197.875, 2374.359375, 1454.5625, 1090.921875, 1540.125, 1540.125, 1026.75, 2395.75, 1796.8125, 4791.5, 1262.046875, 6845.0, 3764.75, 855.625, 3080.25, 1454.5625, 2395.75, 2395.75, 770.0625, 10952.0, 2053.5, 1026.75, 1454.5625, 2738.0, 1369.0, 1112.3125, 1454.5625, 1283.4375, 1112.3125, 1540.125, 2224.625, 598.9375, 1369.0, 1711.25, 1369.0, 1711.25, 342.25, 1026.75, 1219.265625, 684.5, 1240.65625, 1711.25, 1369.0, 1369.0, 1026.75, 1369.0, 1369.0, 1540.125, 3422.5, 1369.0, 2053.5, 2738.0, 2481.3125, 3721.96875, 1369.0, 1369.0, 1026.75, 1112.3125, 1369.0, 1796.8125, 1112.3125, 1026.75, 1796.8125, 2738.0, 1197.875, 1711.25, 1026.75, 1197.875, 1347.609375, 1026.75, 1900.0, 8.0, 1711.25, 2181.84375, 2395.75, 1369.0, 1369.0, 1026.75, 1197.875, 1026.75, 855.625, 1369.0, 2139.0625, 2395.75, 1369.0, 8299.5625, 1112.3125, 1369.0, 2310.1875, 1711.25, 1540.125, 1369.0, 2053.5, 1026.75, 2395.75, 1625.6875, 1369.0, 4577.59375, 2738.0, 1775.421875, 2224.625, 1454.5625, 1369.0, 1112.3125, 1369.0, 1026.75, 4449.25, 2823.5625, 2053.5, 1369.0, 1197.875, 1112.3125, 1540.125, 1026.75, 1369.0, 1026.75, 2224.625, 3080.25, 1283.4375, 2139.0625, 1112.3125, 2139.0625, 1454.5625, 1112.3125, 1026.75, 5133.75, 1454.5625, 8.0, 2053.5, 1197.875, 2139.0625, 1369.0, 684.5, 1369.0, 1454.5625, 1155.09375, 1026.75, 1796.8125, 3422.5, 1112.3125, 1454.5625, 1454.5625, 2053.5, 1711.25, 1197.875, 1112.3125, 1454.5625, 1133.703125, 1711.25, 1369.0, 1155.09375, 2139.0625, 1540.125, 1711.25, 342.25, 1026.75, 877.015625, 1369.0, 1112.3125, 1369.0, 1112.3125, 941.1875, 2395.75, 1882.375, 1369.0, 2909.125, 1796.8125, 1026.75, 2139.0625, 2053.5, 1454.5625, 2481.3125, 3.1, 1454.5625, 1026.75, 1048.140625, 1112.3125, 1369.0, 5347.65625, 1540.125, 2395.75, 1197.875, 1197.875, 1411.78125, 1197.875, 1026.75, 855.625, 1625.6875, 1796.8125, 1775.421875, 1775.421875, 598.9375, 1796.8125, 3080.25, 2053.5, 1219.265625, 2481.3125, 4107.0, 2053.5, 2139.0625, 4192.5625, 1369.0, 1689.859375, 1454.5625, 1475.953125, 2738.0, 1026.75, 1796.8125, 2139.0625, 3764.75, 3080.25, 1711.25, 1454.5625, 5476.0, 7187.25, 5818.25, 3508.0625, 1112.3125, 3165.8125, 2053.5, 3422.5, 1369.0, 1369.0, 1796.8125, 21904.0, 3401.109375, 1540.125, 2395.75, 10609.75, 1475.953125, 1369.0, 1754.03125, 2566.875, 1197.875, 1860.984375, 1369.0, 1369.0, 2224.625, 1369.0, 0.0, 1240.65625, 3422.5, 3422.5, 1026.75, 1400.0, 1583.0, 900.0, 1200.0, 1026.75, 1026.75, 683.0, 1882.375, 1197.875, 1796.8125, 1711.25, 1625.6875, 1090.921875, 684.5, 3251.375, 3080.25, 3422.5, 2053.5, 2139.0625, 6502.75, 1112.3125, 1026.75, 1090.921875, 1369.0, 4107.0, 1369.0, 1711.25, 3764.75, 1026.75, 1625.6875, 1882.375, 2053.5, 1454.5625, 1026.75, 3165.8125, 1026.75, 2181.84375, 1026.75, 1026.75, 2738.0, 6845.0, 32856.0, 2053.5, 1026.75, 4107.0, 1369.0, 1369.0, 1112.3125, 2053.5, 4107.0, 4107.0, 2139.0625, 1369.0, 2395.75, 1283.4375, 1369.0, 3422.5, 5818.25, 2053.5, 1882.375, 3080.25, 1340.0, 7529.5, 1796.8125, 1026.75, 1026.75, 1711.25, 1369.0, 1400.0, 1048.140625, 1026.75, 1800.0, 1369.0, 2395.75, 4791.5, 3764.75, 1711.25, 1711.25, 1112.3125, 2053.5, 1369.0, 7786.1875, 5476.0, 1711.25, 2139.0625, 1369.0, 2909.125, 6074.9375, 1796.8125, 2395.75, 7187.25, 1711.25, 4107.0, 3080.25, 3080.25, 2738.0, 1711.25, 2053.5, 1369.0, 3080.25, 1259.0, 1369.0, 1197.875, 1197.875, 500.0, 1369.0, 1796.8125, 1026.75, 1026.75, 1026.75, 1369.0, 941.1875, 1026.75, 4791.5, 2139.0625, 2395.75, 1540.125, 1283.4375, 1112.3125, 1796.8125, 1369.0, 2053.5, 1369.0, 1369.0, 1454.5625, 1925.15625, 3422.5, 3251.375, 1369.0, 941.1875, 2224.625, 4620.375, 3165.8125, 2738.0, 1369.0, 2053.5, 2395.75, 4107.0, 1796.8125, 2481.3125, 2738.0, 8898.5, 4149.78125, 1390.390625, 855.625, 1850.0, 6160.5, 7871.75, 1711.25, 1026.75, 2823.5625, 1112.3125, 3080.25, 1262.046875, 1369.0, 1369.0, 1026.75, 3764.75, 1197.875, 3080.25, 5476.0, 1369.0, 700.0, 1454.5625, 1946.546875, 1369.0, 1283.4375, 2053.5, 2738.0, 1369.0, 2700.0, 5818.25, 1026.75, 1197.875, 1711.25, 1347.609375, 2738.0, 2845.0, 1369.0, 1197.875, 2053.5, 2395.75, 1369.0, 2139.0625, 174.3, 1625.6875, 2395.75, 1155.09375, 4577.59375, 1775.421875, 1450.0, 1026.75, 1283.4375, 1112.3125, 1197.875, 2738.0, 1711.25, 1369.0, 1369.0, 2224.625, 1283.4375, 1197.875, 1369.0, 727.28125, 5133.75, 1197.875, 1454.5625, 1796.8125, 3400.0, 1780.0, 1380.0, 1500.0, 4107.0, 2481.3125, 1026.75, 3422.5, 2909.125, 1800.0, 3700.0, 2450.0, 1882.375, 1197.875, 1176.484375, 2395.75, 1026.75, 1026.75, 1240.65625, 1197.875, 3508.0625, 1326.21875, 1540.125, 165.0, 855.625, 800.0, 1582.0, 1775.421875, 1775.421875, 3400.0, 1350.0, 3000.0, 683.0, 6074.9375, 5133.75, 65712.0, 65712.0, 2566.875, 4021.4375, 1711.25, 1860.984375, 1925.15625, 1336.0, 10267.5, 1112.3125]\n"
     ]
    }
   ],
   "source": [
    "list = []\n",
    "squareFeetPatterns = ['Sq.Feet','Sq. Feet','Sq.  Feet','dont know','sqft']\n",
    "meterPatterns = ['Sq. Meter','sqm','sq.meter','Sq.Meter']\n",
    "for i,x in enumerate(cleandf['Area(Sq.Feet)']):\n",
    "    x = str(x)\n",
    "    x = x.replace('Sq. Feet','')\n",
    "    x = x.replace('sqft','')\n",
    "    x = x.replace('dont know','').strip()\n",
    "    if(x ==''):\n",
    "        x = 0.0\n",
    "        list.append(x)\n",
    "        print(i,x)\n",
    "    else:\n",
    "        list.append(float(x))\n",
    "        \n",
    "print(list)\n",
    "cleandf['Area(In Sq.Feet)'] = list"
   ]
  },
  {
   "cell_type": "code",
   "execution_count": 138,
   "id": "f80c0bfc",
   "metadata": {},
   "outputs": [
    {
     "data": {
      "text/plain": [
       "(1762, 20)"
      ]
     },
     "execution_count": 138,
     "metadata": {},
     "output_type": "execute_result"
    }
   ],
   "source": [
    "cleandf = pd.read_csv('dataset_cleaning.csv')\n",
    "cleandf.shape"
   ]
  },
  {
   "cell_type": "code",
   "execution_count": 112,
   "id": "d7a5a008",
   "metadata": {
    "scrolled": false
   },
   "outputs": [
    {
     "name": "stdout",
     "output_type": "stream",
     "text": [
      "[2, 34, 50, 59, 75, 90, 100, 137, 138, 181, 190, 217, 230, 254, 273, 315, 366, 381, 415, 438, 516, 539, 551, 588, 612, 663, 710, 723, 752, 762, 764, 767, 782, 810, 854, 993, 1056, 1120, 1132, 1174, 1251, 1306, 1367]\n",
      "43\n"
     ]
    },
    {
     "name": "stderr",
     "output_type": "stream",
     "text": [
      "C:\\Users\\Administrator\\AppData\\Local\\Temp\\ipykernel_916\\66776281.py:18: SettingWithCopyWarning: \n",
      "A value is trying to be set on a copy of a slice from a DataFrame\n",
      "\n",
      "See the caveats in the documentation: https://pandas.pydata.org/pandas-docs/stable/user_guide/indexing.html#returning-a-view-versus-a-copy\n",
      "  cleandf['Price(Float)'][i] = calculatedPrice\n",
      "C:\\Users\\Administrator\\AppData\\Local\\Temp\\ipykernel_916\\66776281.py:25: SettingWithCopyWarning: \n",
      "A value is trying to be set on a copy of a slice from a DataFrame\n",
      "\n",
      "See the caveats in the documentation: https://pandas.pydata.org/pandas-docs/stable/user_guide/indexing.html#returning-a-view-versus-a-copy\n",
      "  cleandf['Price(Float)'][i] = calculatedPrice\n",
      "C:\\Users\\Administrator\\AppData\\Local\\Temp\\ipykernel_916\\66776281.py:38: SettingWithCopyWarning: \n",
      "A value is trying to be set on a copy of a slice from a DataFrame\n",
      "\n",
      "See the caveats in the documentation: https://pandas.pydata.org/pandas-docs/stable/user_guide/indexing.html#returning-a-view-versus-a-copy\n",
      "  cleandf['Price(Float)'][i] = calculatedPrice\n",
      "C:\\Users\\Administrator\\AppData\\Local\\Temp\\ipykernel_916\\66776281.py:46: SettingWithCopyWarning: \n",
      "A value is trying to be set on a copy of a slice from a DataFrame\n",
      "\n",
      "See the caveats in the documentation: https://pandas.pydata.org/pandas-docs/stable/user_guide/indexing.html#returning-a-view-versus-a-copy\n",
      "  cleandf['Price(Float)'][i] = calculatedPrice\n"
     ]
    }
   ],
   "source": [
    "# matching_values = cleandf['Price'].str.contains(\"Per\")\n",
    "# # print(matching_values)\n",
    "# sum_matching_values = cleandf[matching_values][\"Price\"].index\n",
    "# index = []\n",
    "# for x in sum_matching_values:\n",
    "#     index.append(x)\n",
    "cleandf['Price(Float)'] = cleandf['Price']\n",
    "print(index)\n",
    "print(len(index))\n",
    "patterns = ['Per Ropani','Per Aana','Per Month','Per aana','Per Acres','per aana']\n",
    "for i in index:\n",
    "    for pattern in patterns:\n",
    "        if pattern in str(cleandf['Price'][i]):\n",
    "            if pattern == \"Per Ropani\":\n",
    "                    price = cleandf['Price'][i].replace('Per Ropani','').strip()\n",
    "                    areaInRopani = float(cleandf['Area(In Sq.Feet)'][i]/5476)\n",
    "                    calculatedPrice =areaInRopani*float(price)\n",
    "                    cleandf['Price(Float)'][i] = calculatedPrice\n",
    "#               print(cleandf['Price'][i])\n",
    "#                 print(\"Per ropani\")\n",
    "            if pattern == \"Per Aana\":\n",
    "                    price = cleandf['Price'][i].replace('Per Aana','').strip()\n",
    "                    areaInAana = float(cleandf['Area(In Sq.Feet)'][i]/342.25)\n",
    "                    calculatedPrice =areaInAana*float(price)\n",
    "                    cleandf['Price(Float)'][i] = calculatedPrice\n",
    "                    \n",
    "            if pattern == \"per aana\":\n",
    "                    price = cleandf['Price'][i].replace('per aana','').strip()\n",
    "                    areaInAana = float(cleandf['Area(In Sq.Feet)'][i]/342.25)\n",
    "                    calculatedPrice =areaInAana*float(price)\n",
    "                    cleandf['Price(Float)'][i] = calculatedPrice\n",
    "                    \n",
    "                    \n",
    "            if pattern == \"Per aana\":\n",
    "                    price = cleandf['Price'][i].replace('Per aana','').strip()\n",
    "                    areaInAana = float(cleandf['Area(In Sq.Feet)'][i]/342.25)\n",
    "                    calculatedPrice =areaInAana*float(price)\n",
    "                    cleandf['Price(Float)'][i] = calculatedPrice\n",
    "                    \n",
    "#               print(cleandf['Price'][i])\n",
    "\n",
    "            if pattern == \"Per Acres\":\n",
    "                    price = cleandf['Price'][i].replace('Per Acres','').strip()\n",
    "                    areaInAcres = float(cleandf['Area(In Sq.Feet)'][i]/4046.86)\n",
    "                    calculatedPrice =areaInAcres*float(price)\n",
    "                    cleandf['Price(Float)'][i] = calculatedPrice\n",
    "                    \n",
    "                \n",
    "        \n"
   ]
  },
  {
   "cell_type": "code",
   "execution_count": 118,
   "id": "b489d005",
   "metadata": {},
   "outputs": [
    {
     "name": "stdout",
     "output_type": "stream",
     "text": [
      "5                                                  Title  \\\n",
      "50                  House For Sale In Imadol, Lalitpur   \n",
      "138  Bisalnagar : House For Sale In Bishal Nagar, K...   \n",
      "516  —- LAND & BUILDING ON SALE — : House For Sale ...   \n",
      "656  Beautiful House : House For Sale In Lainchaur,...   \n",
      "767  MAHARAJGANJ 3 BHK BUNGALOW ON RENT : House For...   \n",
      "\n",
      "                                      Full_Address               Price  \\\n",
      "50             ['Rajkulo', ' Imadol', ' Lalitpur']  27500000 Per Month   \n",
      "138  ['Bisalnagar', ' Bishal Nagar', ' Kathmandu']    220000 Per Month   \n",
      "516         ['lolang', ' Goldhunga', ' Kathmandu']   9500000 Per Month   \n",
      "656      ['Lainchaur', ' Lainchaur', ' Kathmandu']     50000 per month   \n",
      "767           ['NA', ' Maharajgunj', ' Kathmandu']    225000 Per Month   \n",
      "\n",
      "     Bedroom  Bathroom  Floors  Parking        Face    Year Views  \\\n",
      "50         5         4     3.0        1       North  2077.0   410   \n",
      "138        0         0     2.0        0  North East     NaN   463   \n",
      "516        4         3     NaN        1       North  2075.0   971   \n",
      "656        4         3     2.5        1       South     NaN   956   \n",
      "767        3         5     2.0        3        East  2068.0  1.4K   \n",
      "\n",
      "              Area  Road     Build Area        Posted  \\\n",
      "50          3 Aana  16.0  2200 Sq. Feet  6 months ago   \n",
      "138   1-8-0-0 Aana  20.0       N/A Aana    1 year ago   \n",
      "516   0-3-0-1 Aana  12.0       N/A Aana   2 years ago   \n",
      "656  1100 Sq. Feet  12.0   N/A Sq. Feet   2 years ago   \n",
      "767       1 Ropani  20.0       N/A Aana   2 years ago   \n",
      "\n",
      "                                             Amenities        City  \\\n",
      "50   ['Garage', 'Parking', 'Water Supply', 'Modular...    Lalitpur   \n",
      "138          ['Lawn', 'Parking', 'Drainage', 'Garage']   Kathmandu   \n",
      "516                                                 []   Kathmandu   \n",
      "656  ['Lawn', 'Garage', 'Air Condition', 'Gym', 'Wi...   Kathmandu   \n",
      "767  ['Drainage', 'Lawn', 'Jacuzzi', 'Garage', 'Par...   Kathmandu   \n",
      "\n",
      "           Address  Area(Sq.Feet)  Area(In Sq.Feet)        Price(Float)  \n",
      "50          Imadol        1026.75       1026.750000  27500000 Per Month  \n",
      "138   Bishal Nagar         8214.0       8214.000000    220000 Per Month  \n",
      "516      Goldhunga    1048.140625       1048.140625   9500000 Per Month  \n",
      "656      Lainchaur  1100 Sq. Feet       1100.000000     50000 per month  \n",
      "767    Maharajgunj         342.25        342.250000    225000 Per Month  \n"
     ]
    }
   ],
   "source": [
    "patterns = ['Per Month','per month']\n",
    "filtered_df = cleandf[cleandf['Price'].str.contains('|'.join(patterns))] #Filtering rows that dont belong to desired_cities\n",
    "print(len(filtered_df),filtered_df)\n",
    "cleandf = cleandf.drop(filtered_df.index)"
   ]
  },
  {
   "cell_type": "code",
   "execution_count": 140,
   "id": "04db655f",
   "metadata": {},
   "outputs": [
    {
     "name": "stdout",
     "output_type": "stream",
     "text": [
      "4000000\n",
      "1762\n"
     ]
    }
   ],
   "source": [
    "count = 0\n",
    "floatPrice = []\n",
    "\n",
    "for i,x in enumerate(cleandf['Price(Float)']):\n",
    "    x = str(x).replace('onward','')\n",
    "    x = str(x).replace('Onward','')\n",
    "    x = str(x).replace('total','')\n",
    "    if '20 lakh per aana' in x:\n",
    "        x = str(x).replace('20 lakh per aana','').strip()\n",
    "    if 'per aana' in x:\n",
    "        price = cleandf['Price'][i].replace('per aana','').strip()\n",
    "        print(price)\n",
    "        areaInaana = cleandf['Area(In Sq.Feet)'][i]/342.25\n",
    "        calculatedPrice = float(areaInaana) * float(price)\n",
    "        floatPrice.append(calculatedPrice)\n",
    "        continue\n",
    "    floatPrice .append(float(x))\n",
    "\n",
    "print(len(floatPrice))\n",
    "# cleand"
   ]
  },
  {
   "cell_type": "code",
   "execution_count": 142,
   "id": "72161111",
   "metadata": {},
   "outputs": [
    {
     "name": "stdout",
     "output_type": "stream",
     "text": [
      "                                               Title  \\\n",
      "0  Tokha House(Residential) : House For Sale In T...   \n",
      "1              House For Sale In Tikathali, Lalitpur   \n",
      "2  COmmercial Property At Ringroad : House For Sa...   \n",
      "3            House For Sale In Tarkeshwor, Kathmandu   \n",
      "4  Bungalow For Sale In Gahanapokhari : House For...   \n",
      "\n",
      "                                        Full_Address                Price  \\\n",
      "0            ['Grande Tole', ' Tokha', ' Kathmandu']             35000000   \n",
      "1  ['Mahalaxmi-05', ' Tikathali', ' Tikathali', '...             17000000   \n",
      "2            ['Kusunti', ' Ekantakuna', ' Lalitpur']  32000000 Per Ropani   \n",
      "3  ['Tarkeshor-5', ' Aryaltar', ' New Rangasala B...             17000000   \n",
      "4         ['Gahana Pokhari', ' Naxal', ' Kathmandu']             83500000   \n",
      "\n",
      "   Bedroom  Bathroom  Floors  Parking        Face    Year Views          Area  \\\n",
      "0        0         0     3.0        0        East     NaN   230      6-1 Aana   \n",
      "1        2         1     1.0        1       North     NaN   164    0-3-1 Aana   \n",
      "2        0         3     NaN        2       North     NaN   194  0-3-3-2 Aana   \n",
      "3        5         2     2.0        1        East  2079.0   180        3 Aana   \n",
      "4        4         4     3.0        0  South East     NaN   259    9-3-1 Aana   \n",
      "\n",
      "   Road     Build Area       Posted  \\\n",
      "0  13.0       N/A Aana  3 weeks ago   \n",
      "1  13.0   785 Sq. Feet  4 weeks ago   \n",
      "2  94.0   0-3-3-2 Aana  1 month ago   \n",
      "3  10.0         3 Aana  1 month ago   \n",
      "4  13.0  2800 Sq. Feet  1 month ago   \n",
      "\n",
      "                                           Amenities        City      Address  \\\n",
      "0                                                 []   Kathmandu        Tokha   \n",
      "1                                                 []    Lalitpur    Tikathali   \n",
      "2                                                 []    Lalitpur   Ekantakuna   \n",
      "3  ['Parking', 'Wifi', 'Balcony', 'Water Supply',...   Kathmandu   Tarkeshwor   \n",
      "4  ['Lawn', 'Parking', 'Garden', 'Water Supply', ...   Kathmandu        Naxal   \n",
      "\n",
      "  Area(Sq.Feet)  Area(In Sq.Feet)  Price(Float)  \n",
      "0     2139.0625        2139.06250    35000000.0  \n",
      "1     1112.3125        1112.31250    17000000.0  \n",
      "2    1326.21875        1326.21875     7750000.0  \n",
      "3       1026.75        1026.75000    17000000.0  \n",
      "4     3336.9375        3336.93750    83500000.0  \n"
     ]
    }
   ],
   "source": [
    "cleandf['Price(Float)'] = floatPrice\n",
    "print(cleandf.head())"
   ]
  },
  {
   "cell_type": "code",
   "execution_count": 145,
   "id": "1e57b0f8",
   "metadata": {},
   "outputs": [
    {
     "data": {
      "text/plain": [
       "(1762, 20)"
      ]
     },
     "execution_count": 145,
     "metadata": {},
     "output_type": "execute_result"
    }
   ],
   "source": [
    "cleandf.shape"
   ]
  },
  {
   "cell_type": "code",
   "execution_count": 47,
   "id": "7bd75b52",
   "metadata": {},
   "outputs": [
    {
     "ename": "AttributeError",
     "evalue": "'DataFrame' object has no attribute 'includes'",
     "output_type": "error",
     "traceback": [
      "\u001b[1;31m---------------------------------------------------------------------------\u001b[0m",
      "\u001b[1;31mAttributeError\u001b[0m                            Traceback (most recent call last)",
      "\u001b[1;32m~\\AppData\\Local\\Temp\\ipykernel_6516\\3476678701.py\u001b[0m in \u001b[0;36m<module>\u001b[1;34m\u001b[0m\n\u001b[1;32m----> 1\u001b[1;33m \u001b[0mzero_counts\u001b[0m \u001b[1;33m=\u001b[0m \u001b[0mcleandf\u001b[0m\u001b[1;33m.\u001b[0m\u001b[0mincludes\u001b[0m\u001b[1;33m(\u001b[0m\u001b[1;34m'Per'\u001b[0m\u001b[1;33m)\u001b[0m\u001b[1;33m.\u001b[0m\u001b[0msum\u001b[0m\u001b[1;33m(\u001b[0m\u001b[1;33m)\u001b[0m\u001b[1;33m\u001b[0m\u001b[1;33m\u001b[0m\u001b[0m\n\u001b[0m\u001b[0;32m      2\u001b[0m \u001b[1;33m\u001b[0m\u001b[0m\n\u001b[0;32m      3\u001b[0m \u001b[0mprint\u001b[0m\u001b[1;33m(\u001b[0m\u001b[0mzero_counts\u001b[0m\u001b[1;33m)\u001b[0m\u001b[1;33m\u001b[0m\u001b[1;33m\u001b[0m\u001b[0m\n",
      "\u001b[1;32mD:\\Softwares\\anaconda\\lib\\site-packages\\pandas\\core\\generic.py\u001b[0m in \u001b[0;36m__getattr__\u001b[1;34m(self, name)\u001b[0m\n\u001b[0;32m   5573\u001b[0m         ):\n\u001b[0;32m   5574\u001b[0m             \u001b[1;32mreturn\u001b[0m \u001b[0mself\u001b[0m\u001b[1;33m[\u001b[0m\u001b[0mname\u001b[0m\u001b[1;33m]\u001b[0m\u001b[1;33m\u001b[0m\u001b[1;33m\u001b[0m\u001b[0m\n\u001b[1;32m-> 5575\u001b[1;33m         \u001b[1;32mreturn\u001b[0m \u001b[0mobject\u001b[0m\u001b[1;33m.\u001b[0m\u001b[0m__getattribute__\u001b[0m\u001b[1;33m(\u001b[0m\u001b[0mself\u001b[0m\u001b[1;33m,\u001b[0m \u001b[0mname\u001b[0m\u001b[1;33m)\u001b[0m\u001b[1;33m\u001b[0m\u001b[1;33m\u001b[0m\u001b[0m\n\u001b[0m\u001b[0;32m   5576\u001b[0m \u001b[1;33m\u001b[0m\u001b[0m\n\u001b[0;32m   5577\u001b[0m     \u001b[1;32mdef\u001b[0m \u001b[0m__setattr__\u001b[0m\u001b[1;33m(\u001b[0m\u001b[0mself\u001b[0m\u001b[1;33m,\u001b[0m \u001b[0mname\u001b[0m\u001b[1;33m:\u001b[0m \u001b[0mstr\u001b[0m\u001b[1;33m,\u001b[0m \u001b[0mvalue\u001b[0m\u001b[1;33m)\u001b[0m \u001b[1;33m->\u001b[0m \u001b[1;32mNone\u001b[0m\u001b[1;33m:\u001b[0m\u001b[1;33m\u001b[0m\u001b[1;33m\u001b[0m\u001b[0m\n",
      "\u001b[1;31mAttributeError\u001b[0m: 'DataFrame' object has no attribute 'includes'"
     ]
    }
   ],
   "source": [
    "zero_counts = cleandf.eq('').sum()\n",
    "\n",
    "print(zero_counts)"
   ]
  },
  {
   "cell_type": "code",
   "execution_count": 53,
   "id": "0d425400",
   "metadata": {},
   "outputs": [
    {
     "name": "stdout",
     "output_type": "stream",
     "text": [
      "Column 'Title' has 0 zero values.\n",
      "Column 'Full_Address' has 0 zero values.\n",
      "Column 'Price' has 0 zero values.\n",
      "Column 'Bedroom' has 474 zero values.\n",
      "Column 'Bathroom' has 479 zero values.\n",
      "Column 'Floors' has 3 zero values.\n",
      "Column 'Parking' has 587 zero values.\n",
      "Column 'Face' has 0 zero values.\n",
      "Column 'Year' has 0 zero values.\n",
      "Column 'Views' has 0 zero values.\n",
      "Column 'Area' has 0 zero values.\n",
      "Column 'Road' has 147 zero values.\n",
      "Column 'Build Area' has 0 zero values.\n",
      "Column 'Posted' has 0 zero values.\n",
      "Column 'Amenities' has 0 zero values.\n",
      "Column 'City' has 0 zero values.\n",
      "Column 'Address' has 0 zero values.\n",
      "Column 'Area(Sq.Feet)' has 2 zero values.\n",
      "Column 'Area(In Sq.Feet)' has 3 zero values.\n"
     ]
    }
   ],
   "source": [
    "zero_counts = (cleandf == 0).sum()\n",
    "\n",
    "# Displaying individual column zero counts\n",
    "for column, count in zero_counts.items():\n",
    "    print(f\"Column '{column}' has {count} zero values.\")"
   ]
  },
  {
   "cell_type": "code",
   "execution_count": 146,
   "id": "3eb6ace3",
   "metadata": {
    "scrolled": true
   },
   "outputs": [
    {
     "data": {
      "text/plain": [
       "Title                 0\n",
       "Full_Address          0\n",
       "Price                 0\n",
       "Bedroom               0\n",
       "Bathroom              0\n",
       "Floors              512\n",
       "Parking               0\n",
       "Face                  0\n",
       "Year                895\n",
       "Views                 0\n",
       "Area                  0\n",
       "Road                  0\n",
       "Build Area            0\n",
       "Posted                0\n",
       "Amenities             0\n",
       "City                  0\n",
       "Address               0\n",
       "Area(Sq.Feet)         0\n",
       "Area(In Sq.Feet)      0\n",
       "Price(Float)          0\n",
       "dtype: int64"
      ]
     },
     "execution_count": 146,
     "metadata": {},
     "output_type": "execute_result"
    }
   ],
   "source": [
    "cleandf.isnull().sum()"
   ]
  },
  {
   "cell_type": "code",
   "execution_count": 152,
   "id": "29f69503",
   "metadata": {},
   "outputs": [],
   "source": [
    "def select_columns(input_file, output_file, columns):\n",
    "    # Read the old CSV file into a pandas DataFrame\n",
    "    df = pd.read_csv(input_file)\n",
    "    \n",
    "    # Select the desired columns\n",
    "    selected_df = df[columns]\n",
    "    \n",
    "    # Write the selected columns to a new CSV file\n",
    "    selected_df.to_csv(output_file, index=False)\n",
    "\n",
    "# Example usage\n",
    "input_file = 'dataset_cleaning.csv'\n",
    "output_file = 'cleaned_dataset.csv'\n",
    "columns = ['City', 'Address', 'Area(In Sq.Feet)','Price(Float)','Bedroom','Bathroom','Road','Face','Parking','Floors']  # Replace with the actual column names\n",
    "\n",
    "select_columns(input_file, output_file, columns)"
   ]
  },
  {
   "cell_type": "code",
   "execution_count": 153,
   "id": "62093b36",
   "metadata": {},
   "outputs": [
    {
     "data": {
      "text/plain": [
       "(1762, 10)"
      ]
     },
     "execution_count": 153,
     "metadata": {},
     "output_type": "execute_result"
    }
   ],
   "source": [
    "finaldf = pd.read_csv('cleaned_dataset.csv')\n",
    "finaldf.shape"
   ]
  },
  {
   "cell_type": "code",
   "execution_count": 154,
   "id": "6cb40254",
   "metadata": {
    "scrolled": true
   },
   "outputs": [
    {
     "name": "stdout",
     "output_type": "stream",
     "text": [
      "City                  0\n",
      "Address               0\n",
      "Area(In Sq.Feet)      3\n",
      "Price(Float)          0\n",
      "Bedroom             473\n",
      "Bathroom            478\n",
      "Road                147\n",
      "Face                  0\n",
      "Parking             586\n",
      "Floors                3\n",
      "dtype: int64\n"
     ]
    }
   ],
   "source": [
    "zero_counts = finaldf.eq(0).sum()\n",
    "print(zero_counts)"
   ]
  },
  {
   "cell_type": "code",
   "execution_count": 158,
   "id": "65c1802b",
   "metadata": {},
   "outputs": [
    {
     "data": {
      "text/plain": [
       "City                  0\n",
       "Address               0\n",
       "Area(In Sq.Feet)      0\n",
       "Price(Float)          0\n",
       "Bedroom               0\n",
       "Bathroom              0\n",
       "Road                  0\n",
       "Face                  0\n",
       "Parking               0\n",
       "Floors              512\n",
       "dtype: int64"
      ]
     },
     "execution_count": 158,
     "metadata": {},
     "output_type": "execute_result"
    }
   ],
   "source": [
    "finaldf.isnull().sum()"
   ]
  },
  {
   "cell_type": "code",
   "execution_count": 144,
   "id": "47b408f1",
   "metadata": {},
   "outputs": [],
   "source": [
    "cleandf.to_csv('dataset_cleaning.csv',index = False) #Cleaned Dataset"
   ]
  }
 ],
 "metadata": {
  "kernelspec": {
   "display_name": "Python 3 (ipykernel)",
   "language": "python",
   "name": "python3"
  },
  "language_info": {
   "codemirror_mode": {
    "name": "ipython",
    "version": 3
   },
   "file_extension": ".py",
   "mimetype": "text/x-python",
   "name": "python",
   "nbconvert_exporter": "python",
   "pygments_lexer": "ipython3",
   "version": "3.9.13"
  }
 },
 "nbformat": 4,
 "nbformat_minor": 5
}
